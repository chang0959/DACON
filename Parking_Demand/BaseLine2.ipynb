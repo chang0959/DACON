{
 "metadata": {
  "language_info": {
   "codemirror_mode": {
    "name": "ipython",
    "version": 3
   },
   "file_extension": ".py",
   "mimetype": "text/x-python",
   "name": "python",
   "nbconvert_exporter": "python",
   "pygments_lexer": "ipython3",
   "version": "3.9.4"
  },
  "orig_nbformat": 4,
  "kernelspec": {
   "name": "python3",
   "display_name": "Python 3.9.4 64-bit ('dacon': conda)"
  },
  "interpreter": {
   "hash": "53c1d1edd8043780bf97efbc44e12c0cc06ae72d1c24902ec21fcb8500fae62d"
  }
 },
 "nbformat": 4,
 "nbformat_minor": 2,
 "cells": [
  {
   "cell_type": "code",
   "execution_count": 1,
   "metadata": {},
   "outputs": [
    {
     "output_type": "error",
     "ename": "ModuleNotFoundError",
     "evalue": "No module named 'lightgbm'",
     "traceback": [
      "\u001b[0;31m---------------------------------------------------------------------------\u001b[0m",
      "\u001b[0;31mModuleNotFoundError\u001b[0m                       Traceback (most recent call last)",
      "\u001b[0;32m<ipython-input-1-b79556dadab2>\u001b[0m in \u001b[0;36m<module>\u001b[0;34m\u001b[0m\n\u001b[1;32m     30\u001b[0m \u001b[0;32mfrom\u001b[0m \u001b[0mxgboost\u001b[0m \u001b[0;32mimport\u001b[0m \u001b[0mXGBRegressor\u001b[0m\u001b[0;34m\u001b[0m\u001b[0;34m\u001b[0m\u001b[0m\n\u001b[1;32m     31\u001b[0m \u001b[0;32mfrom\u001b[0m \u001b[0mcatboost\u001b[0m \u001b[0;32mimport\u001b[0m \u001b[0mCatBoostRegressor\u001b[0m\u001b[0;34m\u001b[0m\u001b[0;34m\u001b[0m\u001b[0m\n\u001b[0;32m---> 32\u001b[0;31m \u001b[0;32mimport\u001b[0m \u001b[0mlightgbm\u001b[0m \u001b[0;32mas\u001b[0m \u001b[0mLGB\u001b[0m\u001b[0;34m\u001b[0m\u001b[0;34m\u001b[0m\u001b[0m\n\u001b[0m\u001b[1;32m     33\u001b[0m \u001b[0;32mfrom\u001b[0m \u001b[0msklearn\u001b[0m\u001b[0;34m.\u001b[0m\u001b[0mcross_decomposition\u001b[0m \u001b[0;32mimport\u001b[0m \u001b[0mPLSRegression\u001b[0m\u001b[0;34m\u001b[0m\u001b[0;34m\u001b[0m\u001b[0m\n\u001b[1;32m     34\u001b[0m \u001b[0;32mfrom\u001b[0m \u001b[0msklearn\u001b[0m\u001b[0;34m.\u001b[0m\u001b[0mlinear_model\u001b[0m \u001b[0;32mimport\u001b[0m \u001b[0mLasso\u001b[0m\u001b[0;34m,\u001b[0m\u001b[0mElasticNet\u001b[0m\u001b[0;34m,\u001b[0m\u001b[0mRidge\u001b[0m\u001b[0;34m\u001b[0m\u001b[0;34m\u001b[0m\u001b[0m\n",
      "\u001b[0;31mModuleNotFoundError\u001b[0m: No module named 'lightgbm'"
     ]
    }
   ],
   "source": [
    "import pandas as pd\n",
    "import numpy as np\n",
    "import seaborn as sns\n",
    "from tqdm import tqdm\n",
    "import warnings\n",
    "warnings.filterwarnings('ignore')\n",
    "import matplotlib.pyplot as plt\n",
    "\n",
    "#폰트 설정          \n",
    "from matplotlib import rc  \n",
    "%matplotlib inline          \n",
    "rc('font', family='AppleGothic' )\n",
    "plt.rcParams['axes.unicode_minus'] = False  \n",
    "\n",
    "from tqdm import tqdm\n",
    "import plotly \n",
    "import plotly.express as px\n",
    "import plotly.graph_objects as go \n",
    "from plotly.subplots import make_subplots\n",
    "\n",
    "import pandas as pd\n",
    "from sklearn.model_selection import train_test_split\n",
    "from sklearn.model_selection import KFold \n",
    "from sklearn.model_selection import cross_val_score\n",
    "from sklearn.model_selection import GridSearchCV\n",
    "from sklearn.ensemble import RandomForestRegressor  \n",
    "from sklearn.preprocessing import StandardScaler\n",
    "from sklearn.linear_model import LinearRegression\n",
    "from sklearn.metrics import mean_absolute_error\n",
    "from xgboost import XGBRegressor\n",
    "from catboost import CatBoostRegressor\n",
    "import lightgbm as LGB\n",
    "from sklearn.cross_decomposition import PLSRegression\n",
    "from sklearn.linear_model import Lasso,ElasticNet,Ridge\n",
    "from sklearn.svm import SVR  "
   ]
  },
  {
   "cell_type": "code",
   "execution_count": 65,
   "metadata": {},
   "outputs": [
    {
     "output_type": "execute_result",
     "data": {
      "text/plain": [
       "['/Users/yuchanghee/opt/anaconda3/envs/dacon/lib/python3.9/site-packages']"
      ]
     },
     "metadata": {},
     "execution_count": 65
    }
   ],
   "source": [
    "import site;      \n",
    "site.getsitepackages() "
   ]
  },
  {
   "cell_type": "code",
   "execution_count": 67,
   "metadata": {},
   "outputs": [],
   "source": [
    "#데이터 불러오기\n",
    "dir='/Users/yuchanghee/Desktop/DACON/Parking_Demand/data/'\n",
    "df_train= pd.read_csv(dir+'train.csv') \n",
    "df_test= pd.read_csv(dir+'test.csv')\n",
    "df_gender=pd.read_csv(dir+'age_gender_info.csv')\n",
    "df_sub=pd.read_csv(dir+'sample_submission.csv')"
   ]
  },
  {
   "cell_type": "code",
   "execution_count": 69,
   "metadata": {},
   "outputs": [
    {
     "output_type": "execute_result",
     "data": {
      "text/plain": [
       "       단지코드  총세대수 임대건물구분    지역  공급유형   전용면적  전용면적별세대수   공가수 자격유형     임대보증금  \\\n",
       "0     C2483   900    아파트  경상북도  국민임대  39.72       134  38.0    A  15667000   \n",
       "1     C2483   900    아파트  경상북도  국민임대  39.72        15  38.0    A  15667000   \n",
       "2     C2483   900    아파트  경상북도  국민임대  51.93       385  38.0    A  27304000   \n",
       "3     C2483   900    아파트  경상북도  국민임대  51.93        15  38.0    A  27304000   \n",
       "4     C2483   900    아파트  경상북도  국민임대  51.93        41  38.0    A  27304000   \n",
       "...     ...   ...    ...   ...   ...    ...       ...   ...  ...       ...   \n",
       "2947  C2532   239    아파트   강원도  국민임대  49.20        19   7.0    A  11346000   \n",
       "2948  C2532   239    아파트   강원도  국민임대  51.08        34   7.0    A  14005000   \n",
       "2949  C2532   239    아파트   강원도  국민임대  51.73        34   7.0    A  14005000   \n",
       "2950  C2532   239    아파트   강원도  국민임대  51.96       114   7.0    A  14005000   \n",
       "2951  C2532   239    아파트   강원도  국민임대  54.95        19   7.0    A  14830000   \n",
       "\n",
       "         임대료  도보 10분거리 내 지하철역 수(환승노선 수 반영)  도보 10분거리 내 버스정류장 수  단지내주차면수  \\\n",
       "0     103680                           0.0                 3.0   1425.0   \n",
       "1     103680                           0.0                 3.0   1425.0   \n",
       "2     184330                           0.0                 3.0   1425.0   \n",
       "3     184330                           0.0                 3.0   1425.0   \n",
       "4     184330                           0.0                 3.0   1425.0   \n",
       "...      ...                           ...                 ...      ...   \n",
       "2947  116090                           0.0                 1.0    166.0   \n",
       "2948  142310                           0.0                 1.0    166.0   \n",
       "2949  142310                           0.0                 1.0    166.0   \n",
       "2950  142310                           0.0                 1.0    166.0   \n",
       "2951  151030                           0.0                 1.0    166.0   \n",
       "\n",
       "       등록차량수  \n",
       "0     1015.0  \n",
       "1     1015.0  \n",
       "2     1015.0  \n",
       "3     1015.0  \n",
       "4     1015.0  \n",
       "...      ...  \n",
       "2947   146.0  \n",
       "2948   146.0  \n",
       "2949   146.0  \n",
       "2950   146.0  \n",
       "2951   146.0  \n",
       "\n",
       "[2952 rows x 15 columns]"
      ],
      "text/html": "<div>\n<style scoped>\n    .dataframe tbody tr th:only-of-type {\n        vertical-align: middle;\n    }\n\n    .dataframe tbody tr th {\n        vertical-align: top;\n    }\n\n    .dataframe thead th {\n        text-align: right;\n    }\n</style>\n<table border=\"1\" class=\"dataframe\">\n  <thead>\n    <tr style=\"text-align: right;\">\n      <th></th>\n      <th>단지코드</th>\n      <th>총세대수</th>\n      <th>임대건물구분</th>\n      <th>지역</th>\n      <th>공급유형</th>\n      <th>전용면적</th>\n      <th>전용면적별세대수</th>\n      <th>공가수</th>\n      <th>자격유형</th>\n      <th>임대보증금</th>\n      <th>임대료</th>\n      <th>도보 10분거리 내 지하철역 수(환승노선 수 반영)</th>\n      <th>도보 10분거리 내 버스정류장 수</th>\n      <th>단지내주차면수</th>\n      <th>등록차량수</th>\n    </tr>\n  </thead>\n  <tbody>\n    <tr>\n      <th>0</th>\n      <td>C2483</td>\n      <td>900</td>\n      <td>아파트</td>\n      <td>경상북도</td>\n      <td>국민임대</td>\n      <td>39.72</td>\n      <td>134</td>\n      <td>38.0</td>\n      <td>A</td>\n      <td>15667000</td>\n      <td>103680</td>\n      <td>0.0</td>\n      <td>3.0</td>\n      <td>1425.0</td>\n      <td>1015.0</td>\n    </tr>\n    <tr>\n      <th>1</th>\n      <td>C2483</td>\n      <td>900</td>\n      <td>아파트</td>\n      <td>경상북도</td>\n      <td>국민임대</td>\n      <td>39.72</td>\n      <td>15</td>\n      <td>38.0</td>\n      <td>A</td>\n      <td>15667000</td>\n      <td>103680</td>\n      <td>0.0</td>\n      <td>3.0</td>\n      <td>1425.0</td>\n      <td>1015.0</td>\n    </tr>\n    <tr>\n      <th>2</th>\n      <td>C2483</td>\n      <td>900</td>\n      <td>아파트</td>\n      <td>경상북도</td>\n      <td>국민임대</td>\n      <td>51.93</td>\n      <td>385</td>\n      <td>38.0</td>\n      <td>A</td>\n      <td>27304000</td>\n      <td>184330</td>\n      <td>0.0</td>\n      <td>3.0</td>\n      <td>1425.0</td>\n      <td>1015.0</td>\n    </tr>\n    <tr>\n      <th>3</th>\n      <td>C2483</td>\n      <td>900</td>\n      <td>아파트</td>\n      <td>경상북도</td>\n      <td>국민임대</td>\n      <td>51.93</td>\n      <td>15</td>\n      <td>38.0</td>\n      <td>A</td>\n      <td>27304000</td>\n      <td>184330</td>\n      <td>0.0</td>\n      <td>3.0</td>\n      <td>1425.0</td>\n      <td>1015.0</td>\n    </tr>\n    <tr>\n      <th>4</th>\n      <td>C2483</td>\n      <td>900</td>\n      <td>아파트</td>\n      <td>경상북도</td>\n      <td>국민임대</td>\n      <td>51.93</td>\n      <td>41</td>\n      <td>38.0</td>\n      <td>A</td>\n      <td>27304000</td>\n      <td>184330</td>\n      <td>0.0</td>\n      <td>3.0</td>\n      <td>1425.0</td>\n      <td>1015.0</td>\n    </tr>\n    <tr>\n      <th>...</th>\n      <td>...</td>\n      <td>...</td>\n      <td>...</td>\n      <td>...</td>\n      <td>...</td>\n      <td>...</td>\n      <td>...</td>\n      <td>...</td>\n      <td>...</td>\n      <td>...</td>\n      <td>...</td>\n      <td>...</td>\n      <td>...</td>\n      <td>...</td>\n      <td>...</td>\n    </tr>\n    <tr>\n      <th>2947</th>\n      <td>C2532</td>\n      <td>239</td>\n      <td>아파트</td>\n      <td>강원도</td>\n      <td>국민임대</td>\n      <td>49.20</td>\n      <td>19</td>\n      <td>7.0</td>\n      <td>A</td>\n      <td>11346000</td>\n      <td>116090</td>\n      <td>0.0</td>\n      <td>1.0</td>\n      <td>166.0</td>\n      <td>146.0</td>\n    </tr>\n    <tr>\n      <th>2948</th>\n      <td>C2532</td>\n      <td>239</td>\n      <td>아파트</td>\n      <td>강원도</td>\n      <td>국민임대</td>\n      <td>51.08</td>\n      <td>34</td>\n      <td>7.0</td>\n      <td>A</td>\n      <td>14005000</td>\n      <td>142310</td>\n      <td>0.0</td>\n      <td>1.0</td>\n      <td>166.0</td>\n      <td>146.0</td>\n    </tr>\n    <tr>\n      <th>2949</th>\n      <td>C2532</td>\n      <td>239</td>\n      <td>아파트</td>\n      <td>강원도</td>\n      <td>국민임대</td>\n      <td>51.73</td>\n      <td>34</td>\n      <td>7.0</td>\n      <td>A</td>\n      <td>14005000</td>\n      <td>142310</td>\n      <td>0.0</td>\n      <td>1.0</td>\n      <td>166.0</td>\n      <td>146.0</td>\n    </tr>\n    <tr>\n      <th>2950</th>\n      <td>C2532</td>\n      <td>239</td>\n      <td>아파트</td>\n      <td>강원도</td>\n      <td>국민임대</td>\n      <td>51.96</td>\n      <td>114</td>\n      <td>7.0</td>\n      <td>A</td>\n      <td>14005000</td>\n      <td>142310</td>\n      <td>0.0</td>\n      <td>1.0</td>\n      <td>166.0</td>\n      <td>146.0</td>\n    </tr>\n    <tr>\n      <th>2951</th>\n      <td>C2532</td>\n      <td>239</td>\n      <td>아파트</td>\n      <td>강원도</td>\n      <td>국민임대</td>\n      <td>54.95</td>\n      <td>19</td>\n      <td>7.0</td>\n      <td>A</td>\n      <td>14830000</td>\n      <td>151030</td>\n      <td>0.0</td>\n      <td>1.0</td>\n      <td>166.0</td>\n      <td>146.0</td>\n    </tr>\n  </tbody>\n</table>\n<p>2952 rows × 15 columns</p>\n</div>"
     },
     "metadata": {},
     "execution_count": 69
    }
   ],
   "source": [
    "df_train"
   ]
  },
  {
   "cell_type": "code",
   "execution_count": 68,
   "metadata": {},
   "outputs": [
    {
     "output_type": "execute_result",
     "data": {
      "text/plain": [
       "       단지코드  총세대수 임대건물구분    지역  공급유형   전용면적  전용면적별세대수   공가수 자격유형     임대보증금  \\\n",
       "0     C2483   900    아파트  경상북도  국민임대  39.72       134  38.0    A  15667000   \n",
       "1     C2483   900    아파트  경상북도  국민임대  39.72        15  38.0    A  15667000   \n",
       "2     C2483   900    아파트  경상북도  국민임대  51.93       385  38.0    A  27304000   \n",
       "3     C2483   900    아파트  경상북도  국민임대  51.93        15  38.0    A  27304000   \n",
       "4     C2483   900    아파트  경상북도  국민임대  51.93        41  38.0    A  27304000   \n",
       "...     ...   ...    ...   ...   ...    ...       ...   ...  ...       ...   \n",
       "2947  C2532   239    아파트   강원도  국민임대  49.20        19   7.0    A  11346000   \n",
       "2948  C2532   239    아파트   강원도  국민임대  51.08        34   7.0    A  14005000   \n",
       "2949  C2532   239    아파트   강원도  국민임대  51.73        34   7.0    A  14005000   \n",
       "2950  C2532   239    아파트   강원도  국민임대  51.96       114   7.0    A  14005000   \n",
       "2951  C2532   239    아파트   강원도  국민임대  54.95        19   7.0    A  14830000   \n",
       "\n",
       "         임대료  도보 10분거리 내 지하철역 수(환승노선 수 반영)  도보 10분거리 내 버스정류장 수  단지내주차면수  \n",
       "0     103680                           0.0                 3.0   1425.0  \n",
       "1     103680                           0.0                 3.0   1425.0  \n",
       "2     184330                           0.0                 3.0   1425.0  \n",
       "3     184330                           0.0                 3.0   1425.0  \n",
       "4     184330                           0.0                 3.0   1425.0  \n",
       "...      ...                           ...                 ...      ...  \n",
       "2947  116090                           0.0                 1.0    166.0  \n",
       "2948  142310                           0.0                 1.0    166.0  \n",
       "2949  142310                           0.0                 1.0    166.0  \n",
       "2950  142310                           0.0                 1.0    166.0  \n",
       "2951  151030                           0.0                 1.0    166.0  \n",
       "\n",
       "[2952 rows x 14 columns]"
      ],
      "text/html": "<div>\n<style scoped>\n    .dataframe tbody tr th:only-of-type {\n        vertical-align: middle;\n    }\n\n    .dataframe tbody tr th {\n        vertical-align: top;\n    }\n\n    .dataframe thead th {\n        text-align: right;\n    }\n</style>\n<table border=\"1\" class=\"dataframe\">\n  <thead>\n    <tr style=\"text-align: right;\">\n      <th></th>\n      <th>단지코드</th>\n      <th>총세대수</th>\n      <th>임대건물구분</th>\n      <th>지역</th>\n      <th>공급유형</th>\n      <th>전용면적</th>\n      <th>전용면적별세대수</th>\n      <th>공가수</th>\n      <th>자격유형</th>\n      <th>임대보증금</th>\n      <th>임대료</th>\n      <th>도보 10분거리 내 지하철역 수(환승노선 수 반영)</th>\n      <th>도보 10분거리 내 버스정류장 수</th>\n      <th>단지내주차면수</th>\n    </tr>\n  </thead>\n  <tbody>\n    <tr>\n      <th>0</th>\n      <td>C2483</td>\n      <td>900</td>\n      <td>아파트</td>\n      <td>경상북도</td>\n      <td>국민임대</td>\n      <td>39.72</td>\n      <td>134</td>\n      <td>38.0</td>\n      <td>A</td>\n      <td>15667000</td>\n      <td>103680</td>\n      <td>0.0</td>\n      <td>3.0</td>\n      <td>1425.0</td>\n    </tr>\n    <tr>\n      <th>1</th>\n      <td>C2483</td>\n      <td>900</td>\n      <td>아파트</td>\n      <td>경상북도</td>\n      <td>국민임대</td>\n      <td>39.72</td>\n      <td>15</td>\n      <td>38.0</td>\n      <td>A</td>\n      <td>15667000</td>\n      <td>103680</td>\n      <td>0.0</td>\n      <td>3.0</td>\n      <td>1425.0</td>\n    </tr>\n    <tr>\n      <th>2</th>\n      <td>C2483</td>\n      <td>900</td>\n      <td>아파트</td>\n      <td>경상북도</td>\n      <td>국민임대</td>\n      <td>51.93</td>\n      <td>385</td>\n      <td>38.0</td>\n      <td>A</td>\n      <td>27304000</td>\n      <td>184330</td>\n      <td>0.0</td>\n      <td>3.0</td>\n      <td>1425.0</td>\n    </tr>\n    <tr>\n      <th>3</th>\n      <td>C2483</td>\n      <td>900</td>\n      <td>아파트</td>\n      <td>경상북도</td>\n      <td>국민임대</td>\n      <td>51.93</td>\n      <td>15</td>\n      <td>38.0</td>\n      <td>A</td>\n      <td>27304000</td>\n      <td>184330</td>\n      <td>0.0</td>\n      <td>3.0</td>\n      <td>1425.0</td>\n    </tr>\n    <tr>\n      <th>4</th>\n      <td>C2483</td>\n      <td>900</td>\n      <td>아파트</td>\n      <td>경상북도</td>\n      <td>국민임대</td>\n      <td>51.93</td>\n      <td>41</td>\n      <td>38.0</td>\n      <td>A</td>\n      <td>27304000</td>\n      <td>184330</td>\n      <td>0.0</td>\n      <td>3.0</td>\n      <td>1425.0</td>\n    </tr>\n    <tr>\n      <th>...</th>\n      <td>...</td>\n      <td>...</td>\n      <td>...</td>\n      <td>...</td>\n      <td>...</td>\n      <td>...</td>\n      <td>...</td>\n      <td>...</td>\n      <td>...</td>\n      <td>...</td>\n      <td>...</td>\n      <td>...</td>\n      <td>...</td>\n      <td>...</td>\n    </tr>\n    <tr>\n      <th>2947</th>\n      <td>C2532</td>\n      <td>239</td>\n      <td>아파트</td>\n      <td>강원도</td>\n      <td>국민임대</td>\n      <td>49.20</td>\n      <td>19</td>\n      <td>7.0</td>\n      <td>A</td>\n      <td>11346000</td>\n      <td>116090</td>\n      <td>0.0</td>\n      <td>1.0</td>\n      <td>166.0</td>\n    </tr>\n    <tr>\n      <th>2948</th>\n      <td>C2532</td>\n      <td>239</td>\n      <td>아파트</td>\n      <td>강원도</td>\n      <td>국민임대</td>\n      <td>51.08</td>\n      <td>34</td>\n      <td>7.0</td>\n      <td>A</td>\n      <td>14005000</td>\n      <td>142310</td>\n      <td>0.0</td>\n      <td>1.0</td>\n      <td>166.0</td>\n    </tr>\n    <tr>\n      <th>2949</th>\n      <td>C2532</td>\n      <td>239</td>\n      <td>아파트</td>\n      <td>강원도</td>\n      <td>국민임대</td>\n      <td>51.73</td>\n      <td>34</td>\n      <td>7.0</td>\n      <td>A</td>\n      <td>14005000</td>\n      <td>142310</td>\n      <td>0.0</td>\n      <td>1.0</td>\n      <td>166.0</td>\n    </tr>\n    <tr>\n      <th>2950</th>\n      <td>C2532</td>\n      <td>239</td>\n      <td>아파트</td>\n      <td>강원도</td>\n      <td>국민임대</td>\n      <td>51.96</td>\n      <td>114</td>\n      <td>7.0</td>\n      <td>A</td>\n      <td>14005000</td>\n      <td>142310</td>\n      <td>0.0</td>\n      <td>1.0</td>\n      <td>166.0</td>\n    </tr>\n    <tr>\n      <th>2951</th>\n      <td>C2532</td>\n      <td>239</td>\n      <td>아파트</td>\n      <td>강원도</td>\n      <td>국민임대</td>\n      <td>54.95</td>\n      <td>19</td>\n      <td>7.0</td>\n      <td>A</td>\n      <td>14830000</td>\n      <td>151030</td>\n      <td>0.0</td>\n      <td>1.0</td>\n      <td>166.0</td>\n    </tr>\n  </tbody>\n</table>\n<p>2952 rows × 14 columns</p>\n</div>"
     },
     "metadata": {},
     "execution_count": 68
    }
   ],
   "source": [
    "df_train.iloc[:,0:-1]"
   ]
  },
  {
   "cell_type": "code",
   "execution_count": 42,
   "metadata": {},
   "outputs": [
    {
     "output_type": "execute_result",
     "data": {
      "text/plain": [
       "       단지코드  총세대수 임대건물구분    지역  공급유형   전용면적  전용면적별세대수   공가수 자격유형     임대보증금  \\\n",
       "0     C2483   900    아파트  경상북도  국민임대  39.72       134  38.0    A  15667000   \n",
       "1     C2483   900    아파트  경상북도  국민임대  39.72        15  38.0    A  15667000   \n",
       "2     C2483   900    아파트  경상북도  국민임대  51.93       385  38.0    A  27304000   \n",
       "3     C2483   900    아파트  경상북도  국민임대  51.93        15  38.0    A  27304000   \n",
       "4     C2483   900    아파트  경상북도  국민임대  51.93        41  38.0    A  27304000   \n",
       "...     ...   ...    ...   ...   ...    ...       ...   ...  ...       ...   \n",
       "2947  C2532   239    아파트   강원도  국민임대  49.20        19   7.0    A  11346000   \n",
       "2948  C2532   239    아파트   강원도  국민임대  51.08        34   7.0    A  14005000   \n",
       "2949  C2532   239    아파트   강원도  국민임대  51.73        34   7.0    A  14005000   \n",
       "2950  C2532   239    아파트   강원도  국민임대  51.96       114   7.0    A  14005000   \n",
       "2951  C2532   239    아파트   강원도  국민임대  54.95        19   7.0    A  14830000   \n",
       "\n",
       "         임대료  도보 10분거리 내 지하철역 수(환승노선 수 반영)  도보 10분거리 내 버스정류장 수  단지내주차면수  \\\n",
       "0     103680                           0.0                 3.0   1425.0   \n",
       "1     103680                           0.0                 3.0   1425.0   \n",
       "2     184330                           0.0                 3.0   1425.0   \n",
       "3     184330                           0.0                 3.0   1425.0   \n",
       "4     184330                           0.0                 3.0   1425.0   \n",
       "...      ...                           ...                 ...      ...   \n",
       "2947  116090                           0.0                 1.0    166.0   \n",
       "2948  142310                           0.0                 1.0    166.0   \n",
       "2949  142310                           0.0                 1.0    166.0   \n",
       "2950  142310                           0.0                 1.0    166.0   \n",
       "2951  151030                           0.0                 1.0    166.0   \n",
       "\n",
       "       등록차량수  \n",
       "0     1015.0  \n",
       "1     1015.0  \n",
       "2     1015.0  \n",
       "3     1015.0  \n",
       "4     1015.0  \n",
       "...      ...  \n",
       "2947   146.0  \n",
       "2948   146.0  \n",
       "2949   146.0  \n",
       "2950   146.0  \n",
       "2951   146.0  \n",
       "\n",
       "[2952 rows x 15 columns]"
      ],
      "text/html": "<div>\n<style scoped>\n    .dataframe tbody tr th:only-of-type {\n        vertical-align: middle;\n    }\n\n    .dataframe tbody tr th {\n        vertical-align: top;\n    }\n\n    .dataframe thead th {\n        text-align: right;\n    }\n</style>\n<table border=\"1\" class=\"dataframe\">\n  <thead>\n    <tr style=\"text-align: right;\">\n      <th></th>\n      <th>단지코드</th>\n      <th>총세대수</th>\n      <th>임대건물구분</th>\n      <th>지역</th>\n      <th>공급유형</th>\n      <th>전용면적</th>\n      <th>전용면적별세대수</th>\n      <th>공가수</th>\n      <th>자격유형</th>\n      <th>임대보증금</th>\n      <th>임대료</th>\n      <th>도보 10분거리 내 지하철역 수(환승노선 수 반영)</th>\n      <th>도보 10분거리 내 버스정류장 수</th>\n      <th>단지내주차면수</th>\n      <th>등록차량수</th>\n    </tr>\n  </thead>\n  <tbody>\n    <tr>\n      <th>0</th>\n      <td>C2483</td>\n      <td>900</td>\n      <td>아파트</td>\n      <td>경상북도</td>\n      <td>국민임대</td>\n      <td>39.72</td>\n      <td>134</td>\n      <td>38.0</td>\n      <td>A</td>\n      <td>15667000</td>\n      <td>103680</td>\n      <td>0.0</td>\n      <td>3.0</td>\n      <td>1425.0</td>\n      <td>1015.0</td>\n    </tr>\n    <tr>\n      <th>1</th>\n      <td>C2483</td>\n      <td>900</td>\n      <td>아파트</td>\n      <td>경상북도</td>\n      <td>국민임대</td>\n      <td>39.72</td>\n      <td>15</td>\n      <td>38.0</td>\n      <td>A</td>\n      <td>15667000</td>\n      <td>103680</td>\n      <td>0.0</td>\n      <td>3.0</td>\n      <td>1425.0</td>\n      <td>1015.0</td>\n    </tr>\n    <tr>\n      <th>2</th>\n      <td>C2483</td>\n      <td>900</td>\n      <td>아파트</td>\n      <td>경상북도</td>\n      <td>국민임대</td>\n      <td>51.93</td>\n      <td>385</td>\n      <td>38.0</td>\n      <td>A</td>\n      <td>27304000</td>\n      <td>184330</td>\n      <td>0.0</td>\n      <td>3.0</td>\n      <td>1425.0</td>\n      <td>1015.0</td>\n    </tr>\n    <tr>\n      <th>3</th>\n      <td>C2483</td>\n      <td>900</td>\n      <td>아파트</td>\n      <td>경상북도</td>\n      <td>국민임대</td>\n      <td>51.93</td>\n      <td>15</td>\n      <td>38.0</td>\n      <td>A</td>\n      <td>27304000</td>\n      <td>184330</td>\n      <td>0.0</td>\n      <td>3.0</td>\n      <td>1425.0</td>\n      <td>1015.0</td>\n    </tr>\n    <tr>\n      <th>4</th>\n      <td>C2483</td>\n      <td>900</td>\n      <td>아파트</td>\n      <td>경상북도</td>\n      <td>국민임대</td>\n      <td>51.93</td>\n      <td>41</td>\n      <td>38.0</td>\n      <td>A</td>\n      <td>27304000</td>\n      <td>184330</td>\n      <td>0.0</td>\n      <td>3.0</td>\n      <td>1425.0</td>\n      <td>1015.0</td>\n    </tr>\n    <tr>\n      <th>...</th>\n      <td>...</td>\n      <td>...</td>\n      <td>...</td>\n      <td>...</td>\n      <td>...</td>\n      <td>...</td>\n      <td>...</td>\n      <td>...</td>\n      <td>...</td>\n      <td>...</td>\n      <td>...</td>\n      <td>...</td>\n      <td>...</td>\n      <td>...</td>\n      <td>...</td>\n    </tr>\n    <tr>\n      <th>2947</th>\n      <td>C2532</td>\n      <td>239</td>\n      <td>아파트</td>\n      <td>강원도</td>\n      <td>국민임대</td>\n      <td>49.20</td>\n      <td>19</td>\n      <td>7.0</td>\n      <td>A</td>\n      <td>11346000</td>\n      <td>116090</td>\n      <td>0.0</td>\n      <td>1.0</td>\n      <td>166.0</td>\n      <td>146.0</td>\n    </tr>\n    <tr>\n      <th>2948</th>\n      <td>C2532</td>\n      <td>239</td>\n      <td>아파트</td>\n      <td>강원도</td>\n      <td>국민임대</td>\n      <td>51.08</td>\n      <td>34</td>\n      <td>7.0</td>\n      <td>A</td>\n      <td>14005000</td>\n      <td>142310</td>\n      <td>0.0</td>\n      <td>1.0</td>\n      <td>166.0</td>\n      <td>146.0</td>\n    </tr>\n    <tr>\n      <th>2949</th>\n      <td>C2532</td>\n      <td>239</td>\n      <td>아파트</td>\n      <td>강원도</td>\n      <td>국민임대</td>\n      <td>51.73</td>\n      <td>34</td>\n      <td>7.0</td>\n      <td>A</td>\n      <td>14005000</td>\n      <td>142310</td>\n      <td>0.0</td>\n      <td>1.0</td>\n      <td>166.0</td>\n      <td>146.0</td>\n    </tr>\n    <tr>\n      <th>2950</th>\n      <td>C2532</td>\n      <td>239</td>\n      <td>아파트</td>\n      <td>강원도</td>\n      <td>국민임대</td>\n      <td>51.96</td>\n      <td>114</td>\n      <td>7.0</td>\n      <td>A</td>\n      <td>14005000</td>\n      <td>142310</td>\n      <td>0.0</td>\n      <td>1.0</td>\n      <td>166.0</td>\n      <td>146.0</td>\n    </tr>\n    <tr>\n      <th>2951</th>\n      <td>C2532</td>\n      <td>239</td>\n      <td>아파트</td>\n      <td>강원도</td>\n      <td>국민임대</td>\n      <td>54.95</td>\n      <td>19</td>\n      <td>7.0</td>\n      <td>A</td>\n      <td>14830000</td>\n      <td>151030</td>\n      <td>0.0</td>\n      <td>1.0</td>\n      <td>166.0</td>\n      <td>146.0</td>\n    </tr>\n  </tbody>\n</table>\n<p>2952 rows × 15 columns</p>\n</div>"
     },
     "metadata": {},
     "execution_count": 42
    }
   ],
   "source": [
    "df_train"
   ]
  },
  {
   "cell_type": "code",
   "execution_count": 43,
   "metadata": {},
   "outputs": [
    {
     "output_type": "stream",
     "name": "stdout",
     "text": [
      "Train 데이터 기준 차집합 임대건물구분 : []\nTrain 데이터 기준 차집합 지역 : ['서울특별시']\nTrain 데이터 기준 차집합 공급유형 : ['공공분양', '공공임대(5년)', '장기전세']\nTrain 데이터 기준 차집합 자격유형 : ['O', 'B', 'F']\n"
     ]
    }
   ],
   "source": [
    "columns = ['임대건물구분', '지역', '공급유형', '자격유형']\n",
    "for col in columns:\n",
    "    complement = list(set(df_train[col].unique()) - set(df_test[col].unique()))\n",
    "    print(f\"Train 데이터 기준 차집합 {col} : {complement}\")"
   ]
  },
  {
   "cell_type": "code",
   "execution_count": 44,
   "metadata": {},
   "outputs": [],
   "source": [
    "options = True \n",
    "\n",
    "if options:\n",
    "    # 방안 1  값 통일 \n",
    "    df_train.loc[df_train.지역.isin(['서울특별시']), '지역'] = '이외'\n",
    "    df_train.loc[df_train.공급유형.isin(['공공임대(5년)', '장기전세', '공공분양']), '공급유형'] = '이외'\n",
    "    df_train.loc[df_train.자격유형.isin(['O', 'B', 'F']), '공급유형'] = '이외'\n",
    "else:\n",
    "    #방안 2 Drop\n",
    "\n",
    "    df_train = df_train.loc[df_train.지역 != '서울특별시']\n",
    "\n",
    "    mask = df_train.공급유형 != '공공분양'\n",
    "    mask &= df_train.공급유형 != '장기전세'\n",
    "    mask &= df_train.공급유형 != '공공임대(5년)'\n",
    "    df_train = df_train.loc[mask]\n",
    "\n",
    "    mask = df_train.자격유형 != 'F'\n",
    "    mask &= df_train.자격유형 != 'B'\n",
    "    mask &= df_train.자격유형 != 'O'\n",
    "    df_train = df_train.loc[mask]"
   ]
  },
  {
   "cell_type": "code",
   "execution_count": 45,
   "metadata": {},
   "outputs": [
    {
     "output_type": "stream",
     "name": "stdout",
     "text": [
      "train data \n단지코드                              0\n총세대수                              0\n임대건물구분                            0\n지역                                0\n공급유형                              0\n전용면적                              0\n전용면적별세대수                          0\n공가수                               0\n자격유형                              0\n임대보증금                           569\n임대료                             569\n도보 10분거리 내 지하철역 수(환승노선 수 반영)    211\n도보 10분거리 내 버스정류장 수                4\n단지내주차면수                           0\n등록차량수                             0\ndtype: int64\n"
     ]
    }
   ],
   "source": [
    "print (f'train data \\n{df_train.isnull().sum()}')"
   ]
  },
  {
   "cell_type": "code",
   "execution_count": 46,
   "metadata": {},
   "outputs": [
    {
     "output_type": "stream",
     "name": "stdout",
     "text": [
      "공란 없어요\n"
     ]
    }
   ],
   "source": [
    "## 공란 처리 및 기타 작업 \n",
    "## 문자열 처리 \n",
    "df_train.rename(columns={\"도보 10분거리 내 지하철역 수(환승노선 수 반영)\" : \"지하철\", \"도보 10분거리 내 버스정류장 수\" : \"버스\"}, inplace=True)\n",
    "df_train[['임대보증금','임대료']] = df_train[['임대보증금', '임대료']].fillna(\"0\").replace(\"-\", \"0\").astype(int)\n",
    "\n",
    "## 지하철 버스 공란 변경하기 \n",
    "df_train['지하철'].fillna(0,inplace=True)\n",
    "df_train['버스'].fillna(0,inplace=True)\n",
    "\n",
    "##면적은 게속 변경 하면서 확인할것 \n",
    "df_train['전용면적'] = df_train['전용면적'] //10*10\n",
    "df_train['전용면적'] = np.where(df_train['전용면적'] > 100, 100, df_train['전용면적'])\n",
    "df_train['전용면적'] = np.where(df_train['전용면적'] < 15, 15, df_train['전용면적'])\n",
    "\n",
    "if df_train.isnull().sum().sum() != 0:\n",
    "    print (df_train.isnull().sum())\n",
    "else:\n",
    "    print(\"공란 없어요\")\n",
    "\n",
    "## 카데코리화 \n",
    "df_train.loc[:,'임대용총전용면적'] = df_train.loc[:,'전용면적'] * df_train.loc[:,'전용면적별세대수']\n",
    "df_train.loc[:,\"임대건물구분\"] = df_train.loc[:,\"임대건물구분\"].astype('category').cat.codes\n",
    "df_train.loc[:,'지역'] = df_train.loc[:,'지역'].astype('category').cat.codes\n",
    "df_train.loc[:,'공급유형'] = df_train.loc[:,'공급유형'].astype('category').cat.codes\n",
    "df_train.loc[:,'자격유형'] = df_train.loc[:,'자격유형'].astype('category').cat.codes\n",
    "df_train['key'] = df_train['임대건물구분'].astype(str).str.cat(df_train['공급유형'].astype(str), sep='-').str.cat(df_train['자격유형'].astype(str), sep='-')"
   ]
  },
  {
   "cell_type": "code",
   "execution_count": 47,
   "metadata": {},
   "outputs": [
    {
     "output_type": "stream",
     "name": "stdout",
     "text": [
      "test data \n단지코드                              0\n총세대수                              0\n임대건물구분                            0\n지역                                0\n공급유형                              0\n전용면적                              0\n전용면적별세대수                          0\n공가수                               0\n자격유형                              2\n임대보증금                           180\n임대료                             180\n도보 10분거리 내 지하철역 수(환승노선 수 반영)     42\n도보 10분거리 내 버스정류장 수                0\n단지내주차면수                           0\ntype                              0\ndtype: int64\n"
     ]
    }
   ],
   "source": [
    "print (f'test data \\n{df_test.isnull().sum()}')"
   ]
  },
  {
   "cell_type": "code",
   "execution_count": 48,
   "metadata": {},
   "outputs": [
    {
     "output_type": "execute_result",
     "data": {
      "text/plain": [
       "      단지코드  총세대수 임대건물구분    지역  공급유형   전용면적  전용면적별세대수   공가수 자격유형     임대보증금  \\\n",
       "196  C2411   962    아파트  경상남도  국민임대  46.90       240  25.0  NaN  71950000   \n",
       "258  C2253  1161    아파트   강원도  영구임대  26.37       745   0.0  NaN   2249000   \n",
       "\n",
       "       임대료  도보 10분거리 내 지하철역 수(환승노선 수 반영)  도보 10분거리 내 버스정류장 수  단지내주차면수  type  \n",
       "196  37470                           0.0                 2.0    840.0  test  \n",
       "258  44770                           0.0                 2.0    173.0  test  "
      ],
      "text/html": "<div>\n<style scoped>\n    .dataframe tbody tr th:only-of-type {\n        vertical-align: middle;\n    }\n\n    .dataframe tbody tr th {\n        vertical-align: top;\n    }\n\n    .dataframe thead th {\n        text-align: right;\n    }\n</style>\n<table border=\"1\" class=\"dataframe\">\n  <thead>\n    <tr style=\"text-align: right;\">\n      <th></th>\n      <th>단지코드</th>\n      <th>총세대수</th>\n      <th>임대건물구분</th>\n      <th>지역</th>\n      <th>공급유형</th>\n      <th>전용면적</th>\n      <th>전용면적별세대수</th>\n      <th>공가수</th>\n      <th>자격유형</th>\n      <th>임대보증금</th>\n      <th>임대료</th>\n      <th>도보 10분거리 내 지하철역 수(환승노선 수 반영)</th>\n      <th>도보 10분거리 내 버스정류장 수</th>\n      <th>단지내주차면수</th>\n      <th>type</th>\n    </tr>\n  </thead>\n  <tbody>\n    <tr>\n      <th>196</th>\n      <td>C2411</td>\n      <td>962</td>\n      <td>아파트</td>\n      <td>경상남도</td>\n      <td>국민임대</td>\n      <td>46.90</td>\n      <td>240</td>\n      <td>25.0</td>\n      <td>NaN</td>\n      <td>71950000</td>\n      <td>37470</td>\n      <td>0.0</td>\n      <td>2.0</td>\n      <td>840.0</td>\n      <td>test</td>\n    </tr>\n    <tr>\n      <th>258</th>\n      <td>C2253</td>\n      <td>1161</td>\n      <td>아파트</td>\n      <td>강원도</td>\n      <td>영구임대</td>\n      <td>26.37</td>\n      <td>745</td>\n      <td>0.0</td>\n      <td>NaN</td>\n      <td>2249000</td>\n      <td>44770</td>\n      <td>0.0</td>\n      <td>2.0</td>\n      <td>173.0</td>\n      <td>test</td>\n    </tr>\n  </tbody>\n</table>\n</div>"
     },
     "metadata": {},
     "execution_count": 48
    }
   ],
   "source": [
    "df_test[df_test.자격유형.isnull()]"
   ]
  },
  {
   "cell_type": "code",
   "execution_count": 49,
   "metadata": {},
   "outputs": [
    {
     "output_type": "execute_result",
     "data": {
      "text/plain": [
       "      단지코드  총세대수 임대건물구분    지역  공급유형   전용면적  전용면적별세대수   공가수 자격유형     임대보증금  \\\n",
       "193  C2411   962    아파트  경상남도  국민임대  39.43        56  25.0    A  11992000   \n",
       "194  C2411   962    아파트  경상남도  국민임대  39.72       336  25.0    A  11992000   \n",
       "195  C2411   962    아파트  경상남도  국민임대  39.82       179  25.0    A  11992000   \n",
       "196  C2411   962    아파트  경상남도  국민임대  46.90       240  25.0  NaN  71950000   \n",
       "197  C2411   962    아파트  경상남도  국민임대  51.93       150  25.0    A  21586000   \n",
       "258  C2253  1161    아파트   강원도  영구임대  26.37       745   0.0  NaN   2249000   \n",
       "259  C2253  1161    아파트   강원도  영구임대  31.32       239   0.0    C   3731000   \n",
       "260  C2253  1161    아파트   강원도  영구임대  31.32       149   0.0    C   3731000   \n",
       "261  C2253  1161     상가   강원도  임대상가  13.77         1   0.0    D       NaN   \n",
       "262  C2253  1161     상가   강원도  임대상가  22.89         1   0.0    D       NaN   \n",
       "\n",
       "        임대료  도보 10분거리 내 지하철역 수(환승노선 수 반영)  도보 10분거리 내 버스정류장 수  단지내주차면수  type  \n",
       "193  100720                           0.0                 2.0    840.0  test  \n",
       "194  100720                           0.0                 2.0    840.0  test  \n",
       "195  100720                           0.0                 2.0    840.0  test  \n",
       "196   37470                           0.0                 2.0    840.0  test  \n",
       "197  171480                           0.0                 2.0    840.0  test  \n",
       "258   44770                           0.0                 2.0    173.0  test  \n",
       "259   83020                           0.0                 2.0    173.0  test  \n",
       "260   83020                           0.0                 2.0    173.0  test  \n",
       "261     NaN                           0.0                 2.0    173.0  test  \n",
       "262     NaN                           0.0                 2.0    173.0  test  "
      ],
      "text/html": "<div>\n<style scoped>\n    .dataframe tbody tr th:only-of-type {\n        vertical-align: middle;\n    }\n\n    .dataframe tbody tr th {\n        vertical-align: top;\n    }\n\n    .dataframe thead th {\n        text-align: right;\n    }\n</style>\n<table border=\"1\" class=\"dataframe\">\n  <thead>\n    <tr style=\"text-align: right;\">\n      <th></th>\n      <th>단지코드</th>\n      <th>총세대수</th>\n      <th>임대건물구분</th>\n      <th>지역</th>\n      <th>공급유형</th>\n      <th>전용면적</th>\n      <th>전용면적별세대수</th>\n      <th>공가수</th>\n      <th>자격유형</th>\n      <th>임대보증금</th>\n      <th>임대료</th>\n      <th>도보 10분거리 내 지하철역 수(환승노선 수 반영)</th>\n      <th>도보 10분거리 내 버스정류장 수</th>\n      <th>단지내주차면수</th>\n      <th>type</th>\n    </tr>\n  </thead>\n  <tbody>\n    <tr>\n      <th>193</th>\n      <td>C2411</td>\n      <td>962</td>\n      <td>아파트</td>\n      <td>경상남도</td>\n      <td>국민임대</td>\n      <td>39.43</td>\n      <td>56</td>\n      <td>25.0</td>\n      <td>A</td>\n      <td>11992000</td>\n      <td>100720</td>\n      <td>0.0</td>\n      <td>2.0</td>\n      <td>840.0</td>\n      <td>test</td>\n    </tr>\n    <tr>\n      <th>194</th>\n      <td>C2411</td>\n      <td>962</td>\n      <td>아파트</td>\n      <td>경상남도</td>\n      <td>국민임대</td>\n      <td>39.72</td>\n      <td>336</td>\n      <td>25.0</td>\n      <td>A</td>\n      <td>11992000</td>\n      <td>100720</td>\n      <td>0.0</td>\n      <td>2.0</td>\n      <td>840.0</td>\n      <td>test</td>\n    </tr>\n    <tr>\n      <th>195</th>\n      <td>C2411</td>\n      <td>962</td>\n      <td>아파트</td>\n      <td>경상남도</td>\n      <td>국민임대</td>\n      <td>39.82</td>\n      <td>179</td>\n      <td>25.0</td>\n      <td>A</td>\n      <td>11992000</td>\n      <td>100720</td>\n      <td>0.0</td>\n      <td>2.0</td>\n      <td>840.0</td>\n      <td>test</td>\n    </tr>\n    <tr>\n      <th>196</th>\n      <td>C2411</td>\n      <td>962</td>\n      <td>아파트</td>\n      <td>경상남도</td>\n      <td>국민임대</td>\n      <td>46.90</td>\n      <td>240</td>\n      <td>25.0</td>\n      <td>NaN</td>\n      <td>71950000</td>\n      <td>37470</td>\n      <td>0.0</td>\n      <td>2.0</td>\n      <td>840.0</td>\n      <td>test</td>\n    </tr>\n    <tr>\n      <th>197</th>\n      <td>C2411</td>\n      <td>962</td>\n      <td>아파트</td>\n      <td>경상남도</td>\n      <td>국민임대</td>\n      <td>51.93</td>\n      <td>150</td>\n      <td>25.0</td>\n      <td>A</td>\n      <td>21586000</td>\n      <td>171480</td>\n      <td>0.0</td>\n      <td>2.0</td>\n      <td>840.0</td>\n      <td>test</td>\n    </tr>\n    <tr>\n      <th>258</th>\n      <td>C2253</td>\n      <td>1161</td>\n      <td>아파트</td>\n      <td>강원도</td>\n      <td>영구임대</td>\n      <td>26.37</td>\n      <td>745</td>\n      <td>0.0</td>\n      <td>NaN</td>\n      <td>2249000</td>\n      <td>44770</td>\n      <td>0.0</td>\n      <td>2.0</td>\n      <td>173.0</td>\n      <td>test</td>\n    </tr>\n    <tr>\n      <th>259</th>\n      <td>C2253</td>\n      <td>1161</td>\n      <td>아파트</td>\n      <td>강원도</td>\n      <td>영구임대</td>\n      <td>31.32</td>\n      <td>239</td>\n      <td>0.0</td>\n      <td>C</td>\n      <td>3731000</td>\n      <td>83020</td>\n      <td>0.0</td>\n      <td>2.0</td>\n      <td>173.0</td>\n      <td>test</td>\n    </tr>\n    <tr>\n      <th>260</th>\n      <td>C2253</td>\n      <td>1161</td>\n      <td>아파트</td>\n      <td>강원도</td>\n      <td>영구임대</td>\n      <td>31.32</td>\n      <td>149</td>\n      <td>0.0</td>\n      <td>C</td>\n      <td>3731000</td>\n      <td>83020</td>\n      <td>0.0</td>\n      <td>2.0</td>\n      <td>173.0</td>\n      <td>test</td>\n    </tr>\n    <tr>\n      <th>261</th>\n      <td>C2253</td>\n      <td>1161</td>\n      <td>상가</td>\n      <td>강원도</td>\n      <td>임대상가</td>\n      <td>13.77</td>\n      <td>1</td>\n      <td>0.0</td>\n      <td>D</td>\n      <td>NaN</td>\n      <td>NaN</td>\n      <td>0.0</td>\n      <td>2.0</td>\n      <td>173.0</td>\n      <td>test</td>\n    </tr>\n    <tr>\n      <th>262</th>\n      <td>C2253</td>\n      <td>1161</td>\n      <td>상가</td>\n      <td>강원도</td>\n      <td>임대상가</td>\n      <td>22.89</td>\n      <td>1</td>\n      <td>0.0</td>\n      <td>D</td>\n      <td>NaN</td>\n      <td>NaN</td>\n      <td>0.0</td>\n      <td>2.0</td>\n      <td>173.0</td>\n      <td>test</td>\n    </tr>\n  </tbody>\n</table>\n</div>"
     },
     "metadata": {},
     "execution_count": 49
    }
   ],
   "source": [
    "df_test[(df_test.단지코드=='C2411') | (df_test.단지코드=='C2253')].head(10)"
   ]
  },
  {
   "cell_type": "code",
   "execution_count": 50,
   "metadata": {},
   "outputs": [
    {
     "output_type": "stream",
     "name": "stdout",
     "text": [
      "공란 없어요\n"
     ]
    }
   ],
   "source": [
    "## 빠진 자격 유형 \n",
    "df_test.loc[(df_test.자격유형.isnull()) & (df_test.단지코드 == \"C2411\"), '자격유형'] = 'A'\n",
    "df_test.loc[(df_test.자격유형.isnull()) & (df_test.단지코드 == \"C2253\"), '자격유형'] = 'C'\n",
    "\n",
    "## 문자열 처리 \n",
    "df_test.rename(columns={\"도보 10분거리 내 지하철역 수(환승노선 수 반영)\" : \"지하철\", \"도보 10분거리 내 버스정류장 수\" : \"버스\"}, inplace=True)\n",
    "df_test[['임대보증금','임대료']] = df_test[['임대보증금', '임대료']].fillna(\"0\").replace(\"-\", \"0\").astype(int)\n",
    "\n",
    "## 지하철 버스 공란 변경하기 \n",
    "df_test['지하철'].fillna(0,inplace=True)\n",
    "df_test['버스'].fillna(0,inplace=True)\n",
    "\n",
    "##면적은 게속 변경 하면서 확인할것 \n",
    "df_test['전용면적'] = df_test['전용면적'] //10*10\n",
    "df_test['전용면적'] = np.where(df_test['전용면적'] > 100, 100, df_test['전용면적'])\n",
    "df_test['전용면적'] = np.where(df_test['전용면적'] < 15, 15, df_test['전용면적'])\n",
    "\n",
    "\n",
    "if df_test.isnull().sum().sum() != 0:\n",
    "    print(df_test.isnull().sum())\n",
    "else:\n",
    "    print(\"공란 없어요\")\n",
    "\n",
    "df_test.loc[:,'임대용총전용면적'] = df_test.loc[:,'전용면적'] * df_test.loc[:,'전용면적별세대수']\n",
    "df_test.loc[:,\"임대건물구분\"] = df_test.loc[:,\"임대건물구분\"].astype('category').cat.codes\n",
    "df_test.loc[:,'지역'] = df_test.loc[:,'지역'].astype('category').cat.codes\n",
    "df_test.loc[:,'공급유형'] = df_test.loc[:,'공급유형'].astype('category').cat.codes\n",
    "df_test.loc[:,'자격유형'] = df_test.loc[:,'자격유형'].astype('category').cat.codes\n",
    "df_test['key'] = df_test['임대건물구분'].astype(str).str.cat(df_test['공급유형'].astype(str), sep='-').str.cat(df_test['자격유형'].astype(str), sep='-')\n",
    "\n",
    "# df_test.loc[df_test.자격유형.isnull()]"
   ]
  },
  {
   "cell_type": "code",
   "execution_count": 51,
   "metadata": {},
   "outputs": [],
   "source": [
    "# 성별 구성 지역 카테고리 \n",
    "df_gender.loc[:,'지역'] = df_gender.loc[:,'지역'].astype('category').cat.codes"
   ]
  },
  {
   "cell_type": "code",
   "execution_count": 71,
   "metadata": {},
   "outputs": [
    {
     "output_type": "execute_result",
     "data": {
      "text/plain": [
       "         지역  10대미만(여자)  10대미만(남자)   10대(여자)   10대(남자)   20대(여자)   20대(남자)  \\\n",
       "0      경상북도   0.030158   0.033195  0.056346  0.061360  0.060096  0.067859   \n",
       "1      경상남도   0.027400   0.026902  0.053257  0.055568  0.064920  0.070618   \n",
       "2     대전광역시   0.028197   0.029092  0.040490  0.042793  0.060834  0.064247   \n",
       "3       경기도   0.038030   0.039507  0.052546  0.053990  0.058484  0.059894   \n",
       "4      전라북도   0.028089   0.029065  0.059685  0.060080  0.066262  0.070322   \n",
       "5       강원도   0.028888   0.030682  0.051287  0.052712  0.060374  0.063157   \n",
       "6     광주광역시   0.031994   0.034566  0.049851  0.050254  0.065084  0.066875   \n",
       "7      충청남도   0.031369   0.031711  0.059077  0.062422  0.067975  0.072622   \n",
       "8     부산광역시   0.022003   0.022947  0.032681  0.035512  0.053796  0.057233   \n",
       "9   제주특별자치도   0.034690   0.036695  0.060094  0.063080  0.069135  0.069667   \n",
       "10    울산광역시   0.023991   0.025997  0.053874  0.056967  0.064240  0.074689   \n",
       "11     충청북도   0.034678   0.035339  0.059808  0.061570  0.060824  0.064937   \n",
       "12     전라남도   0.031930   0.034647  0.059154  0.063379  0.065517  0.070339   \n",
       "13    대구광역시   0.023765   0.025626  0.034098  0.037897  0.062559  0.068251   \n",
       "14    서울특별시   0.015323   0.015627  0.025210  0.026121  0.052712  0.056782   \n",
       "15  세종특별자치시   0.037159   0.036601  0.053172  0.050047  0.079284  0.064833   \n",
       "\n",
       "     30대(여자)   30대(남자)   40대(여자)  ...   60대(여자)   60대(남자)   70대(여자)   70대(남자)  \\\n",
       "0   0.053433  0.049572  0.083660  ...  0.082684  0.063889  0.047717  0.030172   \n",
       "1   0.056414  0.057550  0.077092  ...  0.087201  0.069562  0.048357  0.033277   \n",
       "2   0.068654  0.066848  0.074667  ...  0.088468  0.070261  0.051010  0.037143   \n",
       "3   0.072331  0.068704  0.083208  ...  0.074237  0.058419  0.042422  0.032725   \n",
       "4   0.052027  0.046596  0.077005  ...  0.076636  0.068042  0.051025  0.035748   \n",
       "5   0.059821  0.054321  0.076201  ...  0.088423  0.070014  0.047732  0.032760   \n",
       "6   0.066888  0.064416  0.080028  ...  0.075930  0.059586  0.048552  0.031754   \n",
       "7   0.065095  0.067303  0.078860  ...  0.070278  0.057692  0.042296  0.028682   \n",
       "8   0.047049  0.048866  0.061952  ...  0.109297  0.085294  0.078743  0.053388   \n",
       "9   0.050808  0.048026  0.080548  ...  0.074248  0.055717  0.047944  0.033054   \n",
       "10  0.052830  0.052412  0.078450  ...  0.096422  0.069088  0.052913  0.039413   \n",
       "11  0.061069  0.056625  0.082318  ...  0.075390  0.062427  0.041814  0.027566   \n",
       "12  0.057977  0.053471  0.078358  ...  0.071465  0.062352  0.042535  0.030704   \n",
       "13  0.061825  0.071207  0.070090  ...  0.094511  0.073133  0.055914  0.036572   \n",
       "14  0.047655  0.051877  0.054216  ...  0.119639  0.078939  0.097543  0.061050   \n",
       "15  0.106121  0.104447  0.075155  ...  0.065279  0.051163  0.026056  0.026223   \n",
       "\n",
       "     80대(여자)   80대(남자)   90대(여자)   90대(남자)  100대(여자)  100대(남자)  \n",
       "0   0.029361  0.011211  0.005578  0.001553  0.000234  0.000014  \n",
       "1   0.027361  0.011295  0.004910  0.001086  0.000179  0.000010  \n",
       "2   0.032455  0.013751  0.006494  0.001740  0.000298  0.000066  \n",
       "3   0.025136  0.012354  0.005390  0.001707  0.000290  0.000067  \n",
       "4   0.035049  0.012641  0.007223  0.001898  0.000158  0.000013  \n",
       "5   0.033515  0.013027  0.007628  0.001677  0.000319  0.000017  \n",
       "6   0.029749  0.010341  0.006343  0.000895  0.000353  0.000013  \n",
       "7   0.024514  0.010900  0.005429  0.001549  0.000219  0.000123  \n",
       "8   0.047908  0.020228  0.008043  0.002240  0.000268  0.000028  \n",
       "9   0.026836  0.011332  0.006832  0.000982  0.000368  0.000082  \n",
       "10  0.026540  0.011912  0.004221  0.001087  0.000084  0.000000  \n",
       "11  0.027762  0.011212  0.005386  0.001310  0.000257  0.000037  \n",
       "12  0.027340  0.009312  0.005965  0.001458  0.000149  0.000464  \n",
       "13  0.031887  0.012556  0.005364  0.001259  0.000219  0.000000  \n",
       "14  0.047853  0.023463  0.011344  0.003326  0.000532  0.000152  \n",
       "15  0.013893  0.007086  0.003459  0.001004  0.000279  0.000112  \n",
       "\n",
       "[16 rows x 23 columns]"
      ],
      "text/html": "<div>\n<style scoped>\n    .dataframe tbody tr th:only-of-type {\n        vertical-align: middle;\n    }\n\n    .dataframe tbody tr th {\n        vertical-align: top;\n    }\n\n    .dataframe thead th {\n        text-align: right;\n    }\n</style>\n<table border=\"1\" class=\"dataframe\">\n  <thead>\n    <tr style=\"text-align: right;\">\n      <th></th>\n      <th>지역</th>\n      <th>10대미만(여자)</th>\n      <th>10대미만(남자)</th>\n      <th>10대(여자)</th>\n      <th>10대(남자)</th>\n      <th>20대(여자)</th>\n      <th>20대(남자)</th>\n      <th>30대(여자)</th>\n      <th>30대(남자)</th>\n      <th>40대(여자)</th>\n      <th>...</th>\n      <th>60대(여자)</th>\n      <th>60대(남자)</th>\n      <th>70대(여자)</th>\n      <th>70대(남자)</th>\n      <th>80대(여자)</th>\n      <th>80대(남자)</th>\n      <th>90대(여자)</th>\n      <th>90대(남자)</th>\n      <th>100대(여자)</th>\n      <th>100대(남자)</th>\n    </tr>\n  </thead>\n  <tbody>\n    <tr>\n      <th>0</th>\n      <td>경상북도</td>\n      <td>0.030158</td>\n      <td>0.033195</td>\n      <td>0.056346</td>\n      <td>0.061360</td>\n      <td>0.060096</td>\n      <td>0.067859</td>\n      <td>0.053433</td>\n      <td>0.049572</td>\n      <td>0.083660</td>\n      <td>...</td>\n      <td>0.082684</td>\n      <td>0.063889</td>\n      <td>0.047717</td>\n      <td>0.030172</td>\n      <td>0.029361</td>\n      <td>0.011211</td>\n      <td>0.005578</td>\n      <td>0.001553</td>\n      <td>0.000234</td>\n      <td>0.000014</td>\n    </tr>\n    <tr>\n      <th>1</th>\n      <td>경상남도</td>\n      <td>0.027400</td>\n      <td>0.026902</td>\n      <td>0.053257</td>\n      <td>0.055568</td>\n      <td>0.064920</td>\n      <td>0.070618</td>\n      <td>0.056414</td>\n      <td>0.057550</td>\n      <td>0.077092</td>\n      <td>...</td>\n      <td>0.087201</td>\n      <td>0.069562</td>\n      <td>0.048357</td>\n      <td>0.033277</td>\n      <td>0.027361</td>\n      <td>0.011295</td>\n      <td>0.004910</td>\n      <td>0.001086</td>\n      <td>0.000179</td>\n      <td>0.000010</td>\n    </tr>\n    <tr>\n      <th>2</th>\n      <td>대전광역시</td>\n      <td>0.028197</td>\n      <td>0.029092</td>\n      <td>0.040490</td>\n      <td>0.042793</td>\n      <td>0.060834</td>\n      <td>0.064247</td>\n      <td>0.068654</td>\n      <td>0.066848</td>\n      <td>0.074667</td>\n      <td>...</td>\n      <td>0.088468</td>\n      <td>0.070261</td>\n      <td>0.051010</td>\n      <td>0.037143</td>\n      <td>0.032455</td>\n      <td>0.013751</td>\n      <td>0.006494</td>\n      <td>0.001740</td>\n      <td>0.000298</td>\n      <td>0.000066</td>\n    </tr>\n    <tr>\n      <th>3</th>\n      <td>경기도</td>\n      <td>0.038030</td>\n      <td>0.039507</td>\n      <td>0.052546</td>\n      <td>0.053990</td>\n      <td>0.058484</td>\n      <td>0.059894</td>\n      <td>0.072331</td>\n      <td>0.068704</td>\n      <td>0.083208</td>\n      <td>...</td>\n      <td>0.074237</td>\n      <td>0.058419</td>\n      <td>0.042422</td>\n      <td>0.032725</td>\n      <td>0.025136</td>\n      <td>0.012354</td>\n      <td>0.005390</td>\n      <td>0.001707</td>\n      <td>0.000290</td>\n      <td>0.000067</td>\n    </tr>\n    <tr>\n      <th>4</th>\n      <td>전라북도</td>\n      <td>0.028089</td>\n      <td>0.029065</td>\n      <td>0.059685</td>\n      <td>0.060080</td>\n      <td>0.066262</td>\n      <td>0.070322</td>\n      <td>0.052027</td>\n      <td>0.046596</td>\n      <td>0.077005</td>\n      <td>...</td>\n      <td>0.076636</td>\n      <td>0.068042</td>\n      <td>0.051025</td>\n      <td>0.035748</td>\n      <td>0.035049</td>\n      <td>0.012641</td>\n      <td>0.007223</td>\n      <td>0.001898</td>\n      <td>0.000158</td>\n      <td>0.000013</td>\n    </tr>\n    <tr>\n      <th>5</th>\n      <td>강원도</td>\n      <td>0.028888</td>\n      <td>0.030682</td>\n      <td>0.051287</td>\n      <td>0.052712</td>\n      <td>0.060374</td>\n      <td>0.063157</td>\n      <td>0.059821</td>\n      <td>0.054321</td>\n      <td>0.076201</td>\n      <td>...</td>\n      <td>0.088423</td>\n      <td>0.070014</td>\n      <td>0.047732</td>\n      <td>0.032760</td>\n      <td>0.033515</td>\n      <td>0.013027</td>\n      <td>0.007628</td>\n      <td>0.001677</td>\n      <td>0.000319</td>\n      <td>0.000017</td>\n    </tr>\n    <tr>\n      <th>6</th>\n      <td>광주광역시</td>\n      <td>0.031994</td>\n      <td>0.034566</td>\n      <td>0.049851</td>\n      <td>0.050254</td>\n      <td>0.065084</td>\n      <td>0.066875</td>\n      <td>0.066888</td>\n      <td>0.064416</td>\n      <td>0.080028</td>\n      <td>...</td>\n      <td>0.075930</td>\n      <td>0.059586</td>\n      <td>0.048552</td>\n      <td>0.031754</td>\n      <td>0.029749</td>\n      <td>0.010341</td>\n      <td>0.006343</td>\n      <td>0.000895</td>\n      <td>0.000353</td>\n      <td>0.000013</td>\n    </tr>\n    <tr>\n      <th>7</th>\n      <td>충청남도</td>\n      <td>0.031369</td>\n      <td>0.031711</td>\n      <td>0.059077</td>\n      <td>0.062422</td>\n      <td>0.067975</td>\n      <td>0.072622</td>\n      <td>0.065095</td>\n      <td>0.067303</td>\n      <td>0.078860</td>\n      <td>...</td>\n      <td>0.070278</td>\n      <td>0.057692</td>\n      <td>0.042296</td>\n      <td>0.028682</td>\n      <td>0.024514</td>\n      <td>0.010900</td>\n      <td>0.005429</td>\n      <td>0.001549</td>\n      <td>0.000219</td>\n      <td>0.000123</td>\n    </tr>\n    <tr>\n      <th>8</th>\n      <td>부산광역시</td>\n      <td>0.022003</td>\n      <td>0.022947</td>\n      <td>0.032681</td>\n      <td>0.035512</td>\n      <td>0.053796</td>\n      <td>0.057233</td>\n      <td>0.047049</td>\n      <td>0.048866</td>\n      <td>0.061952</td>\n      <td>...</td>\n      <td>0.109297</td>\n      <td>0.085294</td>\n      <td>0.078743</td>\n      <td>0.053388</td>\n      <td>0.047908</td>\n      <td>0.020228</td>\n      <td>0.008043</td>\n      <td>0.002240</td>\n      <td>0.000268</td>\n      <td>0.000028</td>\n    </tr>\n    <tr>\n      <th>9</th>\n      <td>제주특별자치도</td>\n      <td>0.034690</td>\n      <td>0.036695</td>\n      <td>0.060094</td>\n      <td>0.063080</td>\n      <td>0.069135</td>\n      <td>0.069667</td>\n      <td>0.050808</td>\n      <td>0.048026</td>\n      <td>0.080548</td>\n      <td>...</td>\n      <td>0.074248</td>\n      <td>0.055717</td>\n      <td>0.047944</td>\n      <td>0.033054</td>\n      <td>0.026836</td>\n      <td>0.011332</td>\n      <td>0.006832</td>\n      <td>0.000982</td>\n      <td>0.000368</td>\n      <td>0.000082</td>\n    </tr>\n    <tr>\n      <th>10</th>\n      <td>울산광역시</td>\n      <td>0.023991</td>\n      <td>0.025997</td>\n      <td>0.053874</td>\n      <td>0.056967</td>\n      <td>0.064240</td>\n      <td>0.074689</td>\n      <td>0.052830</td>\n      <td>0.052412</td>\n      <td>0.078450</td>\n      <td>...</td>\n      <td>0.096422</td>\n      <td>0.069088</td>\n      <td>0.052913</td>\n      <td>0.039413</td>\n      <td>0.026540</td>\n      <td>0.011912</td>\n      <td>0.004221</td>\n      <td>0.001087</td>\n      <td>0.000084</td>\n      <td>0.000000</td>\n    </tr>\n    <tr>\n      <th>11</th>\n      <td>충청북도</td>\n      <td>0.034678</td>\n      <td>0.035339</td>\n      <td>0.059808</td>\n      <td>0.061570</td>\n      <td>0.060824</td>\n      <td>0.064937</td>\n      <td>0.061069</td>\n      <td>0.056625</td>\n      <td>0.082318</td>\n      <td>...</td>\n      <td>0.075390</td>\n      <td>0.062427</td>\n      <td>0.041814</td>\n      <td>0.027566</td>\n      <td>0.027762</td>\n      <td>0.011212</td>\n      <td>0.005386</td>\n      <td>0.001310</td>\n      <td>0.000257</td>\n      <td>0.000037</td>\n    </tr>\n    <tr>\n      <th>12</th>\n      <td>전라남도</td>\n      <td>0.031930</td>\n      <td>0.034647</td>\n      <td>0.059154</td>\n      <td>0.063379</td>\n      <td>0.065517</td>\n      <td>0.070339</td>\n      <td>0.057977</td>\n      <td>0.053471</td>\n      <td>0.078358</td>\n      <td>...</td>\n      <td>0.071465</td>\n      <td>0.062352</td>\n      <td>0.042535</td>\n      <td>0.030704</td>\n      <td>0.027340</td>\n      <td>0.009312</td>\n      <td>0.005965</td>\n      <td>0.001458</td>\n      <td>0.000149</td>\n      <td>0.000464</td>\n    </tr>\n    <tr>\n      <th>13</th>\n      <td>대구광역시</td>\n      <td>0.023765</td>\n      <td>0.025626</td>\n      <td>0.034098</td>\n      <td>0.037897</td>\n      <td>0.062559</td>\n      <td>0.068251</td>\n      <td>0.061825</td>\n      <td>0.071207</td>\n      <td>0.070090</td>\n      <td>...</td>\n      <td>0.094511</td>\n      <td>0.073133</td>\n      <td>0.055914</td>\n      <td>0.036572</td>\n      <td>0.031887</td>\n      <td>0.012556</td>\n      <td>0.005364</td>\n      <td>0.001259</td>\n      <td>0.000219</td>\n      <td>0.000000</td>\n    </tr>\n    <tr>\n      <th>14</th>\n      <td>서울특별시</td>\n      <td>0.015323</td>\n      <td>0.015627</td>\n      <td>0.025210</td>\n      <td>0.026121</td>\n      <td>0.052712</td>\n      <td>0.056782</td>\n      <td>0.047655</td>\n      <td>0.051877</td>\n      <td>0.054216</td>\n      <td>...</td>\n      <td>0.119639</td>\n      <td>0.078939</td>\n      <td>0.097543</td>\n      <td>0.061050</td>\n      <td>0.047853</td>\n      <td>0.023463</td>\n      <td>0.011344</td>\n      <td>0.003326</td>\n      <td>0.000532</td>\n      <td>0.000152</td>\n    </tr>\n    <tr>\n      <th>15</th>\n      <td>세종특별자치시</td>\n      <td>0.037159</td>\n      <td>0.036601</td>\n      <td>0.053172</td>\n      <td>0.050047</td>\n      <td>0.079284</td>\n      <td>0.064833</td>\n      <td>0.106121</td>\n      <td>0.104447</td>\n      <td>0.075155</td>\n      <td>...</td>\n      <td>0.065279</td>\n      <td>0.051163</td>\n      <td>0.026056</td>\n      <td>0.026223</td>\n      <td>0.013893</td>\n      <td>0.007086</td>\n      <td>0.003459</td>\n      <td>0.001004</td>\n      <td>0.000279</td>\n      <td>0.000112</td>\n    </tr>\n  </tbody>\n</table>\n<p>16 rows × 23 columns</p>\n</div>"
     },
     "metadata": {},
     "execution_count": 71
    }
   ],
   "source": [
    "df_gender"
   ]
  },
  {
   "cell_type": "code",
   "execution_count": 52,
   "metadata": {},
   "outputs": [
    {
     "output_type": "execute_result",
     "data": {
      "text/plain": [
       "      단지코드  총세대수  임대건물구분  지역  공급유형  전용면적  전용면적별세대수  공가수  자격유형    임대보증금  \\\n",
       "86   C1925   601       1   0     4  20.0       298  9.0     2  8052000   \n",
       "87   C1925   601       1   0     4  30.0       298  9.0     2  9174000   \n",
       "88   C1925   601       0   0     6  30.0         1  9.0     3        0   \n",
       "89   C1925   601       0   0     6  30.0         1  9.0     3        0   \n",
       "90   C1925   601       0   0     6  30.0         1  9.0     3        0   \n",
       "91   C1925   601       0   0     6  70.0         1  9.0     3        0   \n",
       "98   C1874   619       1  14     4  20.0       294  2.0     2  3141000   \n",
       "99   C1874   619       1  14     4  20.0       149  2.0     2  3141000   \n",
       "100  C1874   619       1  14     4  30.0       149  2.0     2  3731000   \n",
       "101  C1874   619       0  14     6  15.0         1  2.0     3        0   \n",
       "102  C1874   619       0  14     6  15.0         1  2.0     3        0   \n",
       "103  C1874   619       0  14     6  15.0         1  2.0     3        0   \n",
       "104  C1874   619       0  14     6  20.0         1  2.0     3        0   \n",
       "105  C1874   619       0  14     6  20.0         1  2.0     3        0   \n",
       "\n",
       "        임대료  지하철   버스  단지내주차면수  등록차량수  임대용총전용면적    key  \n",
       "86   130850  0.0  4.0    117.0   75.0    5960.0  1-4-2  \n",
       "87   144460  0.0  4.0    117.0   75.0    8940.0  1-4-2  \n",
       "88        0  0.0  4.0    117.0   75.0      30.0  0-6-3  \n",
       "89        0  0.0  4.0    117.0   75.0      30.0  0-6-3  \n",
       "90        0  0.0  4.0    117.0   75.0      30.0  0-6-3  \n",
       "91        0  0.0  4.0    117.0   75.0      70.0  0-6-3  \n",
       "98    69900  0.0  2.0     97.0   62.0    5880.0  1-4-2  \n",
       "99    69900  0.0  2.0     97.0   62.0    2980.0  1-4-2  \n",
       "100   83020  0.0  2.0     97.0   62.0    4470.0  1-4-2  \n",
       "101       0  0.0  2.0     97.0   62.0      15.0  0-6-3  \n",
       "102       0  0.0  2.0     97.0   62.0      15.0  0-6-3  \n",
       "103       0  0.0  2.0     97.0   62.0      15.0  0-6-3  \n",
       "104       0  0.0  2.0     97.0   62.0      20.0  0-6-3  \n",
       "105       0  0.0  2.0     97.0   62.0      20.0  0-6-3  "
      ],
      "text/html": "<div>\n<style scoped>\n    .dataframe tbody tr th:only-of-type {\n        vertical-align: middle;\n    }\n\n    .dataframe tbody tr th {\n        vertical-align: top;\n    }\n\n    .dataframe thead th {\n        text-align: right;\n    }\n</style>\n<table border=\"1\" class=\"dataframe\">\n  <thead>\n    <tr style=\"text-align: right;\">\n      <th></th>\n      <th>단지코드</th>\n      <th>총세대수</th>\n      <th>임대건물구분</th>\n      <th>지역</th>\n      <th>공급유형</th>\n      <th>전용면적</th>\n      <th>전용면적별세대수</th>\n      <th>공가수</th>\n      <th>자격유형</th>\n      <th>임대보증금</th>\n      <th>임대료</th>\n      <th>지하철</th>\n      <th>버스</th>\n      <th>단지내주차면수</th>\n      <th>등록차량수</th>\n      <th>임대용총전용면적</th>\n      <th>key</th>\n    </tr>\n  </thead>\n  <tbody>\n    <tr>\n      <th>86</th>\n      <td>C1925</td>\n      <td>601</td>\n      <td>1</td>\n      <td>0</td>\n      <td>4</td>\n      <td>20.0</td>\n      <td>298</td>\n      <td>9.0</td>\n      <td>2</td>\n      <td>8052000</td>\n      <td>130850</td>\n      <td>0.0</td>\n      <td>4.0</td>\n      <td>117.0</td>\n      <td>75.0</td>\n      <td>5960.0</td>\n      <td>1-4-2</td>\n    </tr>\n    <tr>\n      <th>87</th>\n      <td>C1925</td>\n      <td>601</td>\n      <td>1</td>\n      <td>0</td>\n      <td>4</td>\n      <td>30.0</td>\n      <td>298</td>\n      <td>9.0</td>\n      <td>2</td>\n      <td>9174000</td>\n      <td>144460</td>\n      <td>0.0</td>\n      <td>4.0</td>\n      <td>117.0</td>\n      <td>75.0</td>\n      <td>8940.0</td>\n      <td>1-4-2</td>\n    </tr>\n    <tr>\n      <th>88</th>\n      <td>C1925</td>\n      <td>601</td>\n      <td>0</td>\n      <td>0</td>\n      <td>6</td>\n      <td>30.0</td>\n      <td>1</td>\n      <td>9.0</td>\n      <td>3</td>\n      <td>0</td>\n      <td>0</td>\n      <td>0.0</td>\n      <td>4.0</td>\n      <td>117.0</td>\n      <td>75.0</td>\n      <td>30.0</td>\n      <td>0-6-3</td>\n    </tr>\n    <tr>\n      <th>89</th>\n      <td>C1925</td>\n      <td>601</td>\n      <td>0</td>\n      <td>0</td>\n      <td>6</td>\n      <td>30.0</td>\n      <td>1</td>\n      <td>9.0</td>\n      <td>3</td>\n      <td>0</td>\n      <td>0</td>\n      <td>0.0</td>\n      <td>4.0</td>\n      <td>117.0</td>\n      <td>75.0</td>\n      <td>30.0</td>\n      <td>0-6-3</td>\n    </tr>\n    <tr>\n      <th>90</th>\n      <td>C1925</td>\n      <td>601</td>\n      <td>0</td>\n      <td>0</td>\n      <td>6</td>\n      <td>30.0</td>\n      <td>1</td>\n      <td>9.0</td>\n      <td>3</td>\n      <td>0</td>\n      <td>0</td>\n      <td>0.0</td>\n      <td>4.0</td>\n      <td>117.0</td>\n      <td>75.0</td>\n      <td>30.0</td>\n      <td>0-6-3</td>\n    </tr>\n    <tr>\n      <th>91</th>\n      <td>C1925</td>\n      <td>601</td>\n      <td>0</td>\n      <td>0</td>\n      <td>6</td>\n      <td>70.0</td>\n      <td>1</td>\n      <td>9.0</td>\n      <td>3</td>\n      <td>0</td>\n      <td>0</td>\n      <td>0.0</td>\n      <td>4.0</td>\n      <td>117.0</td>\n      <td>75.0</td>\n      <td>70.0</td>\n      <td>0-6-3</td>\n    </tr>\n    <tr>\n      <th>98</th>\n      <td>C1874</td>\n      <td>619</td>\n      <td>1</td>\n      <td>14</td>\n      <td>4</td>\n      <td>20.0</td>\n      <td>294</td>\n      <td>2.0</td>\n      <td>2</td>\n      <td>3141000</td>\n      <td>69900</td>\n      <td>0.0</td>\n      <td>2.0</td>\n      <td>97.0</td>\n      <td>62.0</td>\n      <td>5880.0</td>\n      <td>1-4-2</td>\n    </tr>\n    <tr>\n      <th>99</th>\n      <td>C1874</td>\n      <td>619</td>\n      <td>1</td>\n      <td>14</td>\n      <td>4</td>\n      <td>20.0</td>\n      <td>149</td>\n      <td>2.0</td>\n      <td>2</td>\n      <td>3141000</td>\n      <td>69900</td>\n      <td>0.0</td>\n      <td>2.0</td>\n      <td>97.0</td>\n      <td>62.0</td>\n      <td>2980.0</td>\n      <td>1-4-2</td>\n    </tr>\n    <tr>\n      <th>100</th>\n      <td>C1874</td>\n      <td>619</td>\n      <td>1</td>\n      <td>14</td>\n      <td>4</td>\n      <td>30.0</td>\n      <td>149</td>\n      <td>2.0</td>\n      <td>2</td>\n      <td>3731000</td>\n      <td>83020</td>\n      <td>0.0</td>\n      <td>2.0</td>\n      <td>97.0</td>\n      <td>62.0</td>\n      <td>4470.0</td>\n      <td>1-4-2</td>\n    </tr>\n    <tr>\n      <th>101</th>\n      <td>C1874</td>\n      <td>619</td>\n      <td>0</td>\n      <td>14</td>\n      <td>6</td>\n      <td>15.0</td>\n      <td>1</td>\n      <td>2.0</td>\n      <td>3</td>\n      <td>0</td>\n      <td>0</td>\n      <td>0.0</td>\n      <td>2.0</td>\n      <td>97.0</td>\n      <td>62.0</td>\n      <td>15.0</td>\n      <td>0-6-3</td>\n    </tr>\n    <tr>\n      <th>102</th>\n      <td>C1874</td>\n      <td>619</td>\n      <td>0</td>\n      <td>14</td>\n      <td>6</td>\n      <td>15.0</td>\n      <td>1</td>\n      <td>2.0</td>\n      <td>3</td>\n      <td>0</td>\n      <td>0</td>\n      <td>0.0</td>\n      <td>2.0</td>\n      <td>97.0</td>\n      <td>62.0</td>\n      <td>15.0</td>\n      <td>0-6-3</td>\n    </tr>\n    <tr>\n      <th>103</th>\n      <td>C1874</td>\n      <td>619</td>\n      <td>0</td>\n      <td>14</td>\n      <td>6</td>\n      <td>15.0</td>\n      <td>1</td>\n      <td>2.0</td>\n      <td>3</td>\n      <td>0</td>\n      <td>0</td>\n      <td>0.0</td>\n      <td>2.0</td>\n      <td>97.0</td>\n      <td>62.0</td>\n      <td>15.0</td>\n      <td>0-6-3</td>\n    </tr>\n    <tr>\n      <th>104</th>\n      <td>C1874</td>\n      <td>619</td>\n      <td>0</td>\n      <td>14</td>\n      <td>6</td>\n      <td>20.0</td>\n      <td>1</td>\n      <td>2.0</td>\n      <td>3</td>\n      <td>0</td>\n      <td>0</td>\n      <td>0.0</td>\n      <td>2.0</td>\n      <td>97.0</td>\n      <td>62.0</td>\n      <td>20.0</td>\n      <td>0-6-3</td>\n    </tr>\n    <tr>\n      <th>105</th>\n      <td>C1874</td>\n      <td>619</td>\n      <td>0</td>\n      <td>14</td>\n      <td>6</td>\n      <td>20.0</td>\n      <td>1</td>\n      <td>2.0</td>\n      <td>3</td>\n      <td>0</td>\n      <td>0</td>\n      <td>0.0</td>\n      <td>2.0</td>\n      <td>97.0</td>\n      <td>62.0</td>\n      <td>20.0</td>\n      <td>0-6-3</td>\n    </tr>\n  </tbody>\n</table>\n</div>"
     },
     "metadata": {},
     "execution_count": 52
    }
   ],
   "source": [
    "codes = df_train.단지코드.unique()\n",
    "\n",
    "diff_key =[]\n",
    "\n",
    "for code in codes:\n",
    "    tmp = df_train.loc[df_train.단지코드 == code]\n",
    "    if len(tmp.key.unique()) !=1:\n",
    "        diff_key.append(code)\n",
    "\n",
    "df_by_key = df_train.loc[df_train['단지코드'].isin(diff_key),:]\n",
    "df_by_key.head(14)\n"
   ]
  },
  {
   "cell_type": "code",
   "execution_count": 53,
   "metadata": {},
   "outputs": [
    {
     "output_type": "execute_result",
     "data": {
      "text/plain": [
       "     단지코드  총세대수  임대건물구분  지역  공급유형  전용면적  전용면적별세대수   공가수  자격유형     임대보증금  \\\n",
       "0   C1072   754       1   1     3  30.0       116  14.0     5  22830000   \n",
       "1   C1072   754       1   1     3  40.0        30  14.0     0  36048000   \n",
       "2   C1072   754       1   1     3  40.0       112  14.0     5  36048000   \n",
       "3   C1072   754       1   1     3  40.0       120  14.0     5  36048000   \n",
       "4   C1072   754       1   1     3  50.0        60  14.0     5  43497000   \n",
       "5   C1072   754       1   1     3  50.0        51  14.0     5  43497000   \n",
       "6   C1072   754       1   1     3  50.0       198  14.0     5  43497000   \n",
       "7   C1072   754       1   1     3  50.0        67  14.0     5  43497000   \n",
       "8   C1128  1354       1   1     3  30.0       368   9.0     5  22830000   \n",
       "9   C1128  1354       1   1     3  30.0        30   9.0     5  22830000   \n",
       "10  C1128  1354       1   1     3  30.0        22   9.0     0  22830000   \n",
       "11  C1128  1354       1   1     3  40.0        60   9.0     0  36048000   \n",
       "12  C1128  1354       1   1     3  40.0       116   9.0     0  36048000   \n",
       "13  C1128  1354       1   1     3  40.0       180   9.0     5  36048000   \n",
       "\n",
       "       임대료  지하철   버스  단지내주차면수  type  임대용총전용면적    key  \n",
       "0   189840  0.0  2.0    683.0  test    3480.0  1-3-5  \n",
       "1   249930  0.0  2.0    683.0  test    1200.0  1-3-0  \n",
       "2   249930  0.0  2.0    683.0  test    4480.0  1-3-5  \n",
       "3   249930  0.0  2.0    683.0  test    4800.0  1-3-5  \n",
       "4   296780  0.0  2.0    683.0  test    3000.0  1-3-5  \n",
       "5   296780  0.0  2.0    683.0  test    2550.0  1-3-5  \n",
       "6   296780  0.0  2.0    683.0  test    9900.0  1-3-5  \n",
       "7   296780  0.0  2.0    683.0  test    3350.0  1-3-5  \n",
       "8   189840  0.0  3.0   1216.0  test   11040.0  1-3-5  \n",
       "9   189840  0.0  3.0   1216.0  test     900.0  1-3-5  \n",
       "10  189840  0.0  3.0   1216.0  test     660.0  1-3-0  \n",
       "11  249930  0.0  3.0   1216.0  test    2400.0  1-3-0  \n",
       "12  249930  0.0  3.0   1216.0  test    4640.0  1-3-0  \n",
       "13  249930  0.0  3.0   1216.0  test    7200.0  1-3-5  "
      ],
      "text/html": "<div>\n<style scoped>\n    .dataframe tbody tr th:only-of-type {\n        vertical-align: middle;\n    }\n\n    .dataframe tbody tr th {\n        vertical-align: top;\n    }\n\n    .dataframe thead th {\n        text-align: right;\n    }\n</style>\n<table border=\"1\" class=\"dataframe\">\n  <thead>\n    <tr style=\"text-align: right;\">\n      <th></th>\n      <th>단지코드</th>\n      <th>총세대수</th>\n      <th>임대건물구분</th>\n      <th>지역</th>\n      <th>공급유형</th>\n      <th>전용면적</th>\n      <th>전용면적별세대수</th>\n      <th>공가수</th>\n      <th>자격유형</th>\n      <th>임대보증금</th>\n      <th>임대료</th>\n      <th>지하철</th>\n      <th>버스</th>\n      <th>단지내주차면수</th>\n      <th>type</th>\n      <th>임대용총전용면적</th>\n      <th>key</th>\n    </tr>\n  </thead>\n  <tbody>\n    <tr>\n      <th>0</th>\n      <td>C1072</td>\n      <td>754</td>\n      <td>1</td>\n      <td>1</td>\n      <td>3</td>\n      <td>30.0</td>\n      <td>116</td>\n      <td>14.0</td>\n      <td>5</td>\n      <td>22830000</td>\n      <td>189840</td>\n      <td>0.0</td>\n      <td>2.0</td>\n      <td>683.0</td>\n      <td>test</td>\n      <td>3480.0</td>\n      <td>1-3-5</td>\n    </tr>\n    <tr>\n      <th>1</th>\n      <td>C1072</td>\n      <td>754</td>\n      <td>1</td>\n      <td>1</td>\n      <td>3</td>\n      <td>40.0</td>\n      <td>30</td>\n      <td>14.0</td>\n      <td>0</td>\n      <td>36048000</td>\n      <td>249930</td>\n      <td>0.0</td>\n      <td>2.0</td>\n      <td>683.0</td>\n      <td>test</td>\n      <td>1200.0</td>\n      <td>1-3-0</td>\n    </tr>\n    <tr>\n      <th>2</th>\n      <td>C1072</td>\n      <td>754</td>\n      <td>1</td>\n      <td>1</td>\n      <td>3</td>\n      <td>40.0</td>\n      <td>112</td>\n      <td>14.0</td>\n      <td>5</td>\n      <td>36048000</td>\n      <td>249930</td>\n      <td>0.0</td>\n      <td>2.0</td>\n      <td>683.0</td>\n      <td>test</td>\n      <td>4480.0</td>\n      <td>1-3-5</td>\n    </tr>\n    <tr>\n      <th>3</th>\n      <td>C1072</td>\n      <td>754</td>\n      <td>1</td>\n      <td>1</td>\n      <td>3</td>\n      <td>40.0</td>\n      <td>120</td>\n      <td>14.0</td>\n      <td>5</td>\n      <td>36048000</td>\n      <td>249930</td>\n      <td>0.0</td>\n      <td>2.0</td>\n      <td>683.0</td>\n      <td>test</td>\n      <td>4800.0</td>\n      <td>1-3-5</td>\n    </tr>\n    <tr>\n      <th>4</th>\n      <td>C1072</td>\n      <td>754</td>\n      <td>1</td>\n      <td>1</td>\n      <td>3</td>\n      <td>50.0</td>\n      <td>60</td>\n      <td>14.0</td>\n      <td>5</td>\n      <td>43497000</td>\n      <td>296780</td>\n      <td>0.0</td>\n      <td>2.0</td>\n      <td>683.0</td>\n      <td>test</td>\n      <td>3000.0</td>\n      <td>1-3-5</td>\n    </tr>\n    <tr>\n      <th>5</th>\n      <td>C1072</td>\n      <td>754</td>\n      <td>1</td>\n      <td>1</td>\n      <td>3</td>\n      <td>50.0</td>\n      <td>51</td>\n      <td>14.0</td>\n      <td>5</td>\n      <td>43497000</td>\n      <td>296780</td>\n      <td>0.0</td>\n      <td>2.0</td>\n      <td>683.0</td>\n      <td>test</td>\n      <td>2550.0</td>\n      <td>1-3-5</td>\n    </tr>\n    <tr>\n      <th>6</th>\n      <td>C1072</td>\n      <td>754</td>\n      <td>1</td>\n      <td>1</td>\n      <td>3</td>\n      <td>50.0</td>\n      <td>198</td>\n      <td>14.0</td>\n      <td>5</td>\n      <td>43497000</td>\n      <td>296780</td>\n      <td>0.0</td>\n      <td>2.0</td>\n      <td>683.0</td>\n      <td>test</td>\n      <td>9900.0</td>\n      <td>1-3-5</td>\n    </tr>\n    <tr>\n      <th>7</th>\n      <td>C1072</td>\n      <td>754</td>\n      <td>1</td>\n      <td>1</td>\n      <td>3</td>\n      <td>50.0</td>\n      <td>67</td>\n      <td>14.0</td>\n      <td>5</td>\n      <td>43497000</td>\n      <td>296780</td>\n      <td>0.0</td>\n      <td>2.0</td>\n      <td>683.0</td>\n      <td>test</td>\n      <td>3350.0</td>\n      <td>1-3-5</td>\n    </tr>\n    <tr>\n      <th>8</th>\n      <td>C1128</td>\n      <td>1354</td>\n      <td>1</td>\n      <td>1</td>\n      <td>3</td>\n      <td>30.0</td>\n      <td>368</td>\n      <td>9.0</td>\n      <td>5</td>\n      <td>22830000</td>\n      <td>189840</td>\n      <td>0.0</td>\n      <td>3.0</td>\n      <td>1216.0</td>\n      <td>test</td>\n      <td>11040.0</td>\n      <td>1-3-5</td>\n    </tr>\n    <tr>\n      <th>9</th>\n      <td>C1128</td>\n      <td>1354</td>\n      <td>1</td>\n      <td>1</td>\n      <td>3</td>\n      <td>30.0</td>\n      <td>30</td>\n      <td>9.0</td>\n      <td>5</td>\n      <td>22830000</td>\n      <td>189840</td>\n      <td>0.0</td>\n      <td>3.0</td>\n      <td>1216.0</td>\n      <td>test</td>\n      <td>900.0</td>\n      <td>1-3-5</td>\n    </tr>\n    <tr>\n      <th>10</th>\n      <td>C1128</td>\n      <td>1354</td>\n      <td>1</td>\n      <td>1</td>\n      <td>3</td>\n      <td>30.0</td>\n      <td>22</td>\n      <td>9.0</td>\n      <td>0</td>\n      <td>22830000</td>\n      <td>189840</td>\n      <td>0.0</td>\n      <td>3.0</td>\n      <td>1216.0</td>\n      <td>test</td>\n      <td>660.0</td>\n      <td>1-3-0</td>\n    </tr>\n    <tr>\n      <th>11</th>\n      <td>C1128</td>\n      <td>1354</td>\n      <td>1</td>\n      <td>1</td>\n      <td>3</td>\n      <td>40.0</td>\n      <td>60</td>\n      <td>9.0</td>\n      <td>0</td>\n      <td>36048000</td>\n      <td>249930</td>\n      <td>0.0</td>\n      <td>3.0</td>\n      <td>1216.0</td>\n      <td>test</td>\n      <td>2400.0</td>\n      <td>1-3-0</td>\n    </tr>\n    <tr>\n      <th>12</th>\n      <td>C1128</td>\n      <td>1354</td>\n      <td>1</td>\n      <td>1</td>\n      <td>3</td>\n      <td>40.0</td>\n      <td>116</td>\n      <td>9.0</td>\n      <td>0</td>\n      <td>36048000</td>\n      <td>249930</td>\n      <td>0.0</td>\n      <td>3.0</td>\n      <td>1216.0</td>\n      <td>test</td>\n      <td>4640.0</td>\n      <td>1-3-0</td>\n    </tr>\n    <tr>\n      <th>13</th>\n      <td>C1128</td>\n      <td>1354</td>\n      <td>1</td>\n      <td>1</td>\n      <td>3</td>\n      <td>40.0</td>\n      <td>180</td>\n      <td>9.0</td>\n      <td>5</td>\n      <td>36048000</td>\n      <td>249930</td>\n      <td>0.0</td>\n      <td>3.0</td>\n      <td>1216.0</td>\n      <td>test</td>\n      <td>7200.0</td>\n      <td>1-3-5</td>\n    </tr>\n  </tbody>\n</table>\n</div>"
     },
     "metadata": {},
     "execution_count": 53
    }
   ],
   "source": [
    "codes = df_test.단지코드.unique()\n",
    "\n",
    "diff_key =[]\n",
    "\n",
    "for code in codes:\n",
    "    tmp = df_test.loc[df_test.단지코드 == code]\n",
    "    if len(tmp.key.unique()) !=1:\n",
    "        diff_key.append(code)\n",
    "\n",
    "df_by_key = df_test.loc[df_test['단지코드'].isin(diff_key),:]\n",
    "df_by_key.head(14)\n",
    "\n",
    "## test에도 단지 코드별 다른 key값 발생 "
   ]
  },
  {
   "cell_type": "code",
   "execution_count": 54,
   "metadata": {},
   "outputs": [
    {
     "output_type": "execute_result",
     "data": {
      "text/plain": [
       "      단지코드  총세대수  임대건물구분  지역  공급유형  전용면적  전용면적별세대수   공가수  자격유형     임대보증금  \\\n",
       "0    C2483   900       1   3     3  30.0       134  38.0     0  15667000   \n",
       "1    C2515   545       1   2     3  30.0       276  17.0     0   9216000   \n",
       "2    C1407  1216       1   6     3  30.0       288  13.0     0  15620000   \n",
       "3    C1945   755       1   1     5  30.0       120   6.0     1  15607000   \n",
       "4    C1470   696       1  12     3  30.0       228  14.0     0  12015000   \n",
       "..     ...   ...     ...  ..   ...   ...       ...   ...   ...       ...   \n",
       "568  C2456   349       1  12     3  20.0        24  17.0     5   6992000   \n",
       "569  C1266   596       1  14     3  20.0       164  35.0     5   8084000   \n",
       "570  C2152   120       1   0     4  20.0        66   9.0     1         0   \n",
       "571  C1267   675       1   2     3  20.0        28  38.0     5   6882000   \n",
       "572  C2189   382       1  11     3  20.0        96  45.0     5   6872000   \n",
       "\n",
       "        임대료  지하철   버스  단지내주차면수   등록차량수  임대용총전용면적   type    key  \n",
       "0    103680  0.0  3.0   1425.0  1015.0    4020.0  train    NaN  \n",
       "1     82940  0.0  3.0    624.0   205.0    8280.0  train    NaN  \n",
       "2    127350  1.0  1.0   1285.0  1064.0    8640.0  train    NaN  \n",
       "3    130070  1.0  3.0    734.0   730.0    3600.0  train    NaN  \n",
       "4    102130  0.0  2.0    645.0   553.0    6840.0  train    NaN  \n",
       "..      ...  ...  ...      ...     ...       ...    ...    ...  \n",
       "568  117000  0.0  4.0    270.0     NaN     480.0   test  1-3-5  \n",
       "569  149910  0.0  1.0    593.0     NaN    3280.0   test  1-3-5  \n",
       "570       0  0.0  1.0     40.0     NaN    1320.0   test  1-4-1  \n",
       "571  104370  0.0  1.0    467.0     NaN     560.0   test  1-3-5  \n",
       "572  106400  0.0  2.0    300.0     NaN    1920.0   test  1-3-5  \n",
       "\n",
       "[573 rows x 18 columns]"
      ],
      "text/html": "<div>\n<style scoped>\n    .dataframe tbody tr th:only-of-type {\n        vertical-align: middle;\n    }\n\n    .dataframe tbody tr th {\n        vertical-align: top;\n    }\n\n    .dataframe thead th {\n        text-align: right;\n    }\n</style>\n<table border=\"1\" class=\"dataframe\">\n  <thead>\n    <tr style=\"text-align: right;\">\n      <th></th>\n      <th>단지코드</th>\n      <th>총세대수</th>\n      <th>임대건물구분</th>\n      <th>지역</th>\n      <th>공급유형</th>\n      <th>전용면적</th>\n      <th>전용면적별세대수</th>\n      <th>공가수</th>\n      <th>자격유형</th>\n      <th>임대보증금</th>\n      <th>임대료</th>\n      <th>지하철</th>\n      <th>버스</th>\n      <th>단지내주차면수</th>\n      <th>등록차량수</th>\n      <th>임대용총전용면적</th>\n      <th>type</th>\n      <th>key</th>\n    </tr>\n  </thead>\n  <tbody>\n    <tr>\n      <th>0</th>\n      <td>C2483</td>\n      <td>900</td>\n      <td>1</td>\n      <td>3</td>\n      <td>3</td>\n      <td>30.0</td>\n      <td>134</td>\n      <td>38.0</td>\n      <td>0</td>\n      <td>15667000</td>\n      <td>103680</td>\n      <td>0.0</td>\n      <td>3.0</td>\n      <td>1425.0</td>\n      <td>1015.0</td>\n      <td>4020.0</td>\n      <td>train</td>\n      <td>NaN</td>\n    </tr>\n    <tr>\n      <th>1</th>\n      <td>C2515</td>\n      <td>545</td>\n      <td>1</td>\n      <td>2</td>\n      <td>3</td>\n      <td>30.0</td>\n      <td>276</td>\n      <td>17.0</td>\n      <td>0</td>\n      <td>9216000</td>\n      <td>82940</td>\n      <td>0.0</td>\n      <td>3.0</td>\n      <td>624.0</td>\n      <td>205.0</td>\n      <td>8280.0</td>\n      <td>train</td>\n      <td>NaN</td>\n    </tr>\n    <tr>\n      <th>2</th>\n      <td>C1407</td>\n      <td>1216</td>\n      <td>1</td>\n      <td>6</td>\n      <td>3</td>\n      <td>30.0</td>\n      <td>288</td>\n      <td>13.0</td>\n      <td>0</td>\n      <td>15620000</td>\n      <td>127350</td>\n      <td>1.0</td>\n      <td>1.0</td>\n      <td>1285.0</td>\n      <td>1064.0</td>\n      <td>8640.0</td>\n      <td>train</td>\n      <td>NaN</td>\n    </tr>\n    <tr>\n      <th>3</th>\n      <td>C1945</td>\n      <td>755</td>\n      <td>1</td>\n      <td>1</td>\n      <td>5</td>\n      <td>30.0</td>\n      <td>120</td>\n      <td>6.0</td>\n      <td>1</td>\n      <td>15607000</td>\n      <td>130070</td>\n      <td>1.0</td>\n      <td>3.0</td>\n      <td>734.0</td>\n      <td>730.0</td>\n      <td>3600.0</td>\n      <td>train</td>\n      <td>NaN</td>\n    </tr>\n    <tr>\n      <th>4</th>\n      <td>C1470</td>\n      <td>696</td>\n      <td>1</td>\n      <td>12</td>\n      <td>3</td>\n      <td>30.0</td>\n      <td>228</td>\n      <td>14.0</td>\n      <td>0</td>\n      <td>12015000</td>\n      <td>102130</td>\n      <td>0.0</td>\n      <td>2.0</td>\n      <td>645.0</td>\n      <td>553.0</td>\n      <td>6840.0</td>\n      <td>train</td>\n      <td>NaN</td>\n    </tr>\n    <tr>\n      <th>...</th>\n      <td>...</td>\n      <td>...</td>\n      <td>...</td>\n      <td>...</td>\n      <td>...</td>\n      <td>...</td>\n      <td>...</td>\n      <td>...</td>\n      <td>...</td>\n      <td>...</td>\n      <td>...</td>\n      <td>...</td>\n      <td>...</td>\n      <td>...</td>\n      <td>...</td>\n      <td>...</td>\n      <td>...</td>\n      <td>...</td>\n    </tr>\n    <tr>\n      <th>568</th>\n      <td>C2456</td>\n      <td>349</td>\n      <td>1</td>\n      <td>12</td>\n      <td>3</td>\n      <td>20.0</td>\n      <td>24</td>\n      <td>17.0</td>\n      <td>5</td>\n      <td>6992000</td>\n      <td>117000</td>\n      <td>0.0</td>\n      <td>4.0</td>\n      <td>270.0</td>\n      <td>NaN</td>\n      <td>480.0</td>\n      <td>test</td>\n      <td>1-3-5</td>\n    </tr>\n    <tr>\n      <th>569</th>\n      <td>C1266</td>\n      <td>596</td>\n      <td>1</td>\n      <td>14</td>\n      <td>3</td>\n      <td>20.0</td>\n      <td>164</td>\n      <td>35.0</td>\n      <td>5</td>\n      <td>8084000</td>\n      <td>149910</td>\n      <td>0.0</td>\n      <td>1.0</td>\n      <td>593.0</td>\n      <td>NaN</td>\n      <td>3280.0</td>\n      <td>test</td>\n      <td>1-3-5</td>\n    </tr>\n    <tr>\n      <th>570</th>\n      <td>C2152</td>\n      <td>120</td>\n      <td>1</td>\n      <td>0</td>\n      <td>4</td>\n      <td>20.0</td>\n      <td>66</td>\n      <td>9.0</td>\n      <td>1</td>\n      <td>0</td>\n      <td>0</td>\n      <td>0.0</td>\n      <td>1.0</td>\n      <td>40.0</td>\n      <td>NaN</td>\n      <td>1320.0</td>\n      <td>test</td>\n      <td>1-4-1</td>\n    </tr>\n    <tr>\n      <th>571</th>\n      <td>C1267</td>\n      <td>675</td>\n      <td>1</td>\n      <td>2</td>\n      <td>3</td>\n      <td>20.0</td>\n      <td>28</td>\n      <td>38.0</td>\n      <td>5</td>\n      <td>6882000</td>\n      <td>104370</td>\n      <td>0.0</td>\n      <td>1.0</td>\n      <td>467.0</td>\n      <td>NaN</td>\n      <td>560.0</td>\n      <td>test</td>\n      <td>1-3-5</td>\n    </tr>\n    <tr>\n      <th>572</th>\n      <td>C2189</td>\n      <td>382</td>\n      <td>1</td>\n      <td>11</td>\n      <td>3</td>\n      <td>20.0</td>\n      <td>96</td>\n      <td>45.0</td>\n      <td>5</td>\n      <td>6872000</td>\n      <td>106400</td>\n      <td>0.0</td>\n      <td>2.0</td>\n      <td>300.0</td>\n      <td>NaN</td>\n      <td>1920.0</td>\n      <td>test</td>\n      <td>1-3-5</td>\n    </tr>\n  </tbody>\n</table>\n<p>573 rows × 18 columns</p>\n</div>"
     },
     "metadata": {},
     "execution_count": 54
    }
   ],
   "source": [
    "## 그림을 위해 train , test 하나의 df로 \n",
    "\n",
    "train_tmp = df_train.iloc[:,0:-1]\n",
    "train_tmp['type'] = 'train'\n",
    "test_tmp = df_test\n",
    "test_tmp['type'] = 'test'\n",
    "\n",
    "df_all = pd.concat([train_tmp, test_tmp], axis=0)\n",
    "\n",
    "df_all = df_all.drop_duplicates(['단지코드'], keep='first').reset_index(drop=True)\n",
    "df_all"
   ]
  },
  {
   "cell_type": "code",
   "execution_count": 55,
   "metadata": {},
   "outputs": [
    {
     "output_type": "error",
     "ename": "ValueError",
     "evalue": "Mime type rendering requires nbformat>=4.2.0 but it is not installed",
     "traceback": [
      "\u001b[0;31m---------------------------------------------------------------------------\u001b[0m",
      "\u001b[0;31mValueError\u001b[0m                                Traceback (most recent call last)",
      "\u001b[0;32m<ipython-input-55-95f995f2a539>\u001b[0m in \u001b[0;36m<module>\u001b[0;34m\u001b[0m\n\u001b[1;32m      6\u001b[0m                   hovermode='closest')\n\u001b[1;32m      7\u001b[0m \u001b[0mfig\u001b[0m\u001b[0;34m.\u001b[0m\u001b[0mupdate_traces\u001b[0m\u001b[0;34m(\u001b[0m\u001b[0mdiagonal_visible\u001b[0m\u001b[0;34m=\u001b[0m\u001b[0;32mFalse\u001b[0m\u001b[0;34m)\u001b[0m\u001b[0;34m\u001b[0m\u001b[0;34m\u001b[0m\u001b[0m\n\u001b[0;32m----> 8\u001b[0;31m \u001b[0mfig\u001b[0m\u001b[0;34m.\u001b[0m\u001b[0mshow\u001b[0m\u001b[0;34m(\u001b[0m\u001b[0;34m)\u001b[0m\u001b[0;34m\u001b[0m\u001b[0;34m\u001b[0m\u001b[0m\n\u001b[0m",
      "\u001b[0;32m~/opt/anaconda3/envs/dacon/lib/python3.9/site-packages/plotly/basedatatypes.py\u001b[0m in \u001b[0;36mshow\u001b[0;34m(self, *args, **kwargs)\u001b[0m\n\u001b[1;32m   3396\u001b[0m         \u001b[0;32mimport\u001b[0m \u001b[0mplotly\u001b[0m\u001b[0;34m.\u001b[0m\u001b[0mio\u001b[0m \u001b[0;32mas\u001b[0m \u001b[0mpio\u001b[0m\u001b[0;34m\u001b[0m\u001b[0;34m\u001b[0m\u001b[0m\n\u001b[1;32m   3397\u001b[0m \u001b[0;34m\u001b[0m\u001b[0m\n\u001b[0;32m-> 3398\u001b[0;31m         \u001b[0;32mreturn\u001b[0m \u001b[0mpio\u001b[0m\u001b[0;34m.\u001b[0m\u001b[0mshow\u001b[0m\u001b[0;34m(\u001b[0m\u001b[0mself\u001b[0m\u001b[0;34m,\u001b[0m \u001b[0;34m*\u001b[0m\u001b[0margs\u001b[0m\u001b[0;34m,\u001b[0m \u001b[0;34m**\u001b[0m\u001b[0mkwargs\u001b[0m\u001b[0;34m)\u001b[0m\u001b[0;34m\u001b[0m\u001b[0;34m\u001b[0m\u001b[0m\n\u001b[0m\u001b[1;32m   3399\u001b[0m \u001b[0;34m\u001b[0m\u001b[0m\n\u001b[1;32m   3400\u001b[0m     \u001b[0;32mdef\u001b[0m \u001b[0mto_json\u001b[0m\u001b[0;34m(\u001b[0m\u001b[0mself\u001b[0m\u001b[0;34m,\u001b[0m \u001b[0;34m*\u001b[0m\u001b[0margs\u001b[0m\u001b[0;34m,\u001b[0m \u001b[0;34m**\u001b[0m\u001b[0mkwargs\u001b[0m\u001b[0;34m)\u001b[0m\u001b[0;34m:\u001b[0m\u001b[0;34m\u001b[0m\u001b[0;34m\u001b[0m\u001b[0m\n",
      "\u001b[0;32m~/opt/anaconda3/envs/dacon/lib/python3.9/site-packages/plotly/io/_renderers.py\u001b[0m in \u001b[0;36mshow\u001b[0;34m(fig, renderer, validate, **kwargs)\u001b[0m\n\u001b[1;32m    395\u001b[0m \u001b[0;34m\u001b[0m\u001b[0m\n\u001b[1;32m    396\u001b[0m         \u001b[0;32mif\u001b[0m \u001b[0;32mnot\u001b[0m \u001b[0mnbformat\u001b[0m \u001b[0;32mor\u001b[0m \u001b[0mLooseVersion\u001b[0m\u001b[0;34m(\u001b[0m\u001b[0mnbformat\u001b[0m\u001b[0;34m.\u001b[0m\u001b[0m__version__\u001b[0m\u001b[0;34m)\u001b[0m \u001b[0;34m<\u001b[0m \u001b[0mLooseVersion\u001b[0m\u001b[0;34m(\u001b[0m\u001b[0;34m\"4.2.0\"\u001b[0m\u001b[0;34m)\u001b[0m\u001b[0;34m:\u001b[0m\u001b[0;34m\u001b[0m\u001b[0;34m\u001b[0m\u001b[0m\n\u001b[0;32m--> 397\u001b[0;31m             raise ValueError(\n\u001b[0m\u001b[1;32m    398\u001b[0m                 \u001b[0;34m\"Mime type rendering requires nbformat>=4.2.0 but it is not installed\"\u001b[0m\u001b[0;34m\u001b[0m\u001b[0;34m\u001b[0m\u001b[0m\n\u001b[1;32m    399\u001b[0m             )\n",
      "\u001b[0;31mValueError\u001b[0m: Mime type rendering requires nbformat>=4.2.0 but it is not installed"
     ]
    }
   ],
   "source": [
    "df = df_all[['등록차량수', '총세대수',\t'임대건물구분',\t'지역',\t'공급유형',\t'전용면적',\t'전용면적별세대수',\t'공가수',\t'자격유형',\t'임대보증금',\t'임대료',\t'지하철',\t'버스',\t'단지내주차면수',\t'임대용총전용면적', 'type']]\n",
    "fig = px.scatter_matrix(df, color = 'type' )\n",
    "fig.update_layout(dragmode='select',\n",
    "                  width=1000,\n",
    "                  height=1000,\n",
    "                  hovermode='closest')\n",
    "fig.update_traces(diagonal_visible=False)\n",
    "fig.show()"
   ]
  },
  {
   "cell_type": "code",
   "execution_count": 56,
   "metadata": {},
   "outputs": [
    {
     "output_type": "execute_result",
     "data": {
      "text/plain": [
       "      단지코드   등록차량수    총세대수    지역   공가수  지하철   버스  단지내주차면수  총임대가구수     면적_15  \\\n",
       "0    C2483  1015.0   900.0   3.0  38.0  0.0  3.0   1425.0   900.0  0.000000   \n",
       "1    C2515   205.0   545.0   2.0  17.0  0.0  3.0    624.0   545.0  0.000000   \n",
       "2    C1407  1064.0  1216.0   6.0  13.0  1.0  1.0   1285.0  1216.0  0.000000   \n",
       "3    C1945   730.0   755.0   1.0   6.0  1.0  3.0    734.0   755.0  0.000000   \n",
       "4    C1470   553.0   696.0  12.0  14.0  0.0  2.0    645.0   696.0  0.000000   \n",
       "..     ...     ...     ...   ...   ...  ...  ...      ...     ...       ...   \n",
       "418  C2586    57.0    90.0  13.0   7.0  0.0  3.0     66.0    90.0  0.133333   \n",
       "419  C2035   246.0   492.0   0.0  24.0  0.0  1.0    521.0   492.0  0.000000   \n",
       "420  C2020    19.0    40.0   7.0   7.0  1.0  2.0     25.0    40.0  0.500000   \n",
       "421  C2437    16.0    90.0  15.0  12.0  0.0  1.0     30.0    90.0  0.000000   \n",
       "422  C2532   146.0   239.0   0.0   7.0  0.0  1.0    166.0   239.0  0.000000   \n",
       "\n",
       "     ...   60대(여자)   60대(남자)   70대(여자)   70대(남자)   80대(여자)   80대(남자)  \\\n",
       "0    ...  0.082684  0.063889  0.047717  0.030172  0.029361  0.011211   \n",
       "1    ...  0.087201  0.069562  0.048357  0.033277  0.027361  0.011295   \n",
       "2    ...  0.088468  0.070261  0.051010  0.037143  0.032455  0.013751   \n",
       "3    ...  0.074237  0.058419  0.042422  0.032725  0.025136  0.012354   \n",
       "4    ...  0.076636  0.068042  0.051025  0.035748  0.035049  0.012641   \n",
       "..   ...       ...       ...       ...       ...       ...       ...   \n",
       "418  ...  0.074248  0.055717  0.047944  0.033054  0.026836  0.011332   \n",
       "419  ...  0.088423  0.070014  0.047732  0.032760  0.033515  0.013027   \n",
       "420  ...  0.109297  0.085294  0.078743  0.053388  0.047908  0.020228   \n",
       "421  ...  0.075390  0.062427  0.041814  0.027566  0.027762  0.011212   \n",
       "422  ...  0.088423  0.070014  0.047732  0.032760  0.033515  0.013027   \n",
       "\n",
       "      90대(여자)   90대(남자)  100대(여자)  100대(남자)  \n",
       "0    0.005578  0.001553  0.000234  0.000014  \n",
       "1    0.004910  0.001086  0.000179  0.000010  \n",
       "2    0.006494  0.001740  0.000298  0.000066  \n",
       "3    0.005390  0.001707  0.000290  0.000067  \n",
       "4    0.007223  0.001898  0.000158  0.000013  \n",
       "..        ...       ...       ...       ...  \n",
       "418  0.006832  0.000982  0.000368  0.000082  \n",
       "419  0.007628  0.001677  0.000319  0.000017  \n",
       "420  0.008043  0.002240  0.000268  0.000028  \n",
       "421  0.005386  0.001310  0.000257  0.000037  \n",
       "422  0.007628  0.001677  0.000319  0.000017  \n",
       "\n",
       "[423 rows x 42 columns]"
      ],
      "text/html": "<div>\n<style scoped>\n    .dataframe tbody tr th:only-of-type {\n        vertical-align: middle;\n    }\n\n    .dataframe tbody tr th {\n        vertical-align: top;\n    }\n\n    .dataframe thead th {\n        text-align: right;\n    }\n</style>\n<table border=\"1\" class=\"dataframe\">\n  <thead>\n    <tr style=\"text-align: right;\">\n      <th></th>\n      <th>단지코드</th>\n      <th>등록차량수</th>\n      <th>총세대수</th>\n      <th>지역</th>\n      <th>공가수</th>\n      <th>지하철</th>\n      <th>버스</th>\n      <th>단지내주차면수</th>\n      <th>총임대가구수</th>\n      <th>면적_15</th>\n      <th>...</th>\n      <th>60대(여자)</th>\n      <th>60대(남자)</th>\n      <th>70대(여자)</th>\n      <th>70대(남자)</th>\n      <th>80대(여자)</th>\n      <th>80대(남자)</th>\n      <th>90대(여자)</th>\n      <th>90대(남자)</th>\n      <th>100대(여자)</th>\n      <th>100대(남자)</th>\n    </tr>\n  </thead>\n  <tbody>\n    <tr>\n      <th>0</th>\n      <td>C2483</td>\n      <td>1015.0</td>\n      <td>900.0</td>\n      <td>3.0</td>\n      <td>38.0</td>\n      <td>0.0</td>\n      <td>3.0</td>\n      <td>1425.0</td>\n      <td>900.0</td>\n      <td>0.000000</td>\n      <td>...</td>\n      <td>0.082684</td>\n      <td>0.063889</td>\n      <td>0.047717</td>\n      <td>0.030172</td>\n      <td>0.029361</td>\n      <td>0.011211</td>\n      <td>0.005578</td>\n      <td>0.001553</td>\n      <td>0.000234</td>\n      <td>0.000014</td>\n    </tr>\n    <tr>\n      <th>1</th>\n      <td>C2515</td>\n      <td>205.0</td>\n      <td>545.0</td>\n      <td>2.0</td>\n      <td>17.0</td>\n      <td>0.0</td>\n      <td>3.0</td>\n      <td>624.0</td>\n      <td>545.0</td>\n      <td>0.000000</td>\n      <td>...</td>\n      <td>0.087201</td>\n      <td>0.069562</td>\n      <td>0.048357</td>\n      <td>0.033277</td>\n      <td>0.027361</td>\n      <td>0.011295</td>\n      <td>0.004910</td>\n      <td>0.001086</td>\n      <td>0.000179</td>\n      <td>0.000010</td>\n    </tr>\n    <tr>\n      <th>2</th>\n      <td>C1407</td>\n      <td>1064.0</td>\n      <td>1216.0</td>\n      <td>6.0</td>\n      <td>13.0</td>\n      <td>1.0</td>\n      <td>1.0</td>\n      <td>1285.0</td>\n      <td>1216.0</td>\n      <td>0.000000</td>\n      <td>...</td>\n      <td>0.088468</td>\n      <td>0.070261</td>\n      <td>0.051010</td>\n      <td>0.037143</td>\n      <td>0.032455</td>\n      <td>0.013751</td>\n      <td>0.006494</td>\n      <td>0.001740</td>\n      <td>0.000298</td>\n      <td>0.000066</td>\n    </tr>\n    <tr>\n      <th>3</th>\n      <td>C1945</td>\n      <td>730.0</td>\n      <td>755.0</td>\n      <td>1.0</td>\n      <td>6.0</td>\n      <td>1.0</td>\n      <td>3.0</td>\n      <td>734.0</td>\n      <td>755.0</td>\n      <td>0.000000</td>\n      <td>...</td>\n      <td>0.074237</td>\n      <td>0.058419</td>\n      <td>0.042422</td>\n      <td>0.032725</td>\n      <td>0.025136</td>\n      <td>0.012354</td>\n      <td>0.005390</td>\n      <td>0.001707</td>\n      <td>0.000290</td>\n      <td>0.000067</td>\n    </tr>\n    <tr>\n      <th>4</th>\n      <td>C1470</td>\n      <td>553.0</td>\n      <td>696.0</td>\n      <td>12.0</td>\n      <td>14.0</td>\n      <td>0.0</td>\n      <td>2.0</td>\n      <td>645.0</td>\n      <td>696.0</td>\n      <td>0.000000</td>\n      <td>...</td>\n      <td>0.076636</td>\n      <td>0.068042</td>\n      <td>0.051025</td>\n      <td>0.035748</td>\n      <td>0.035049</td>\n      <td>0.012641</td>\n      <td>0.007223</td>\n      <td>0.001898</td>\n      <td>0.000158</td>\n      <td>0.000013</td>\n    </tr>\n    <tr>\n      <th>...</th>\n      <td>...</td>\n      <td>...</td>\n      <td>...</td>\n      <td>...</td>\n      <td>...</td>\n      <td>...</td>\n      <td>...</td>\n      <td>...</td>\n      <td>...</td>\n      <td>...</td>\n      <td>...</td>\n      <td>...</td>\n      <td>...</td>\n      <td>...</td>\n      <td>...</td>\n      <td>...</td>\n      <td>...</td>\n      <td>...</td>\n      <td>...</td>\n      <td>...</td>\n      <td>...</td>\n    </tr>\n    <tr>\n      <th>418</th>\n      <td>C2586</td>\n      <td>57.0</td>\n      <td>90.0</td>\n      <td>13.0</td>\n      <td>7.0</td>\n      <td>0.0</td>\n      <td>3.0</td>\n      <td>66.0</td>\n      <td>90.0</td>\n      <td>0.133333</td>\n      <td>...</td>\n      <td>0.074248</td>\n      <td>0.055717</td>\n      <td>0.047944</td>\n      <td>0.033054</td>\n      <td>0.026836</td>\n      <td>0.011332</td>\n      <td>0.006832</td>\n      <td>0.000982</td>\n      <td>0.000368</td>\n      <td>0.000082</td>\n    </tr>\n    <tr>\n      <th>419</th>\n      <td>C2035</td>\n      <td>246.0</td>\n      <td>492.0</td>\n      <td>0.0</td>\n      <td>24.0</td>\n      <td>0.0</td>\n      <td>1.0</td>\n      <td>521.0</td>\n      <td>492.0</td>\n      <td>0.000000</td>\n      <td>...</td>\n      <td>0.088423</td>\n      <td>0.070014</td>\n      <td>0.047732</td>\n      <td>0.032760</td>\n      <td>0.033515</td>\n      <td>0.013027</td>\n      <td>0.007628</td>\n      <td>0.001677</td>\n      <td>0.000319</td>\n      <td>0.000017</td>\n    </tr>\n    <tr>\n      <th>420</th>\n      <td>C2020</td>\n      <td>19.0</td>\n      <td>40.0</td>\n      <td>7.0</td>\n      <td>7.0</td>\n      <td>1.0</td>\n      <td>2.0</td>\n      <td>25.0</td>\n      <td>40.0</td>\n      <td>0.500000</td>\n      <td>...</td>\n      <td>0.109297</td>\n      <td>0.085294</td>\n      <td>0.078743</td>\n      <td>0.053388</td>\n      <td>0.047908</td>\n      <td>0.020228</td>\n      <td>0.008043</td>\n      <td>0.002240</td>\n      <td>0.000268</td>\n      <td>0.000028</td>\n    </tr>\n    <tr>\n      <th>421</th>\n      <td>C2437</td>\n      <td>16.0</td>\n      <td>90.0</td>\n      <td>15.0</td>\n      <td>12.0</td>\n      <td>0.0</td>\n      <td>1.0</td>\n      <td>30.0</td>\n      <td>90.0</td>\n      <td>0.000000</td>\n      <td>...</td>\n      <td>0.075390</td>\n      <td>0.062427</td>\n      <td>0.041814</td>\n      <td>0.027566</td>\n      <td>0.027762</td>\n      <td>0.011212</td>\n      <td>0.005386</td>\n      <td>0.001310</td>\n      <td>0.000257</td>\n      <td>0.000037</td>\n    </tr>\n    <tr>\n      <th>422</th>\n      <td>C2532</td>\n      <td>146.0</td>\n      <td>239.0</td>\n      <td>0.0</td>\n      <td>7.0</td>\n      <td>0.0</td>\n      <td>1.0</td>\n      <td>166.0</td>\n      <td>239.0</td>\n      <td>0.000000</td>\n      <td>...</td>\n      <td>0.088423</td>\n      <td>0.070014</td>\n      <td>0.047732</td>\n      <td>0.032760</td>\n      <td>0.033515</td>\n      <td>0.013027</td>\n      <td>0.007628</td>\n      <td>0.001677</td>\n      <td>0.000319</td>\n      <td>0.000017</td>\n    </tr>\n  </tbody>\n</table>\n<p>423 rows × 42 columns</p>\n</div>"
     },
     "metadata": {},
     "execution_count": 56
    }
   ],
   "source": [
    "df_train.loc[:,'총전용면적'] = df_train.loc[:,'전용면적'] * df_train.loc[:,'전용면적별세대수']\n",
    "\n",
    "codes = df_train.단지코드.unique()\n",
    "areas = np.sort(df_train.전용면적.unique())\n",
    "\n",
    "df_train_edited = pd.DataFrame()\n",
    "columns = ['단지코드', '등록차량수', '총세대수', '지역', '공가수','지하철', '버스', '단지내주차면수']\n",
    "\n",
    "for order, code in enumerate(codes):\n",
    "    temp_by_code = df_train.loc[df_train.단지코드==code].reset_index(drop=True)\n",
    "    ## 원 계열 값 그냥 가져오기 \n",
    "    df_train_edited.loc[order, columns] = temp_by_code.loc[0, columns]             \n",
    "    df_train_edited.loc[order, \"총임대가구수\"] = temp_by_code.전용면적별세대수.sum()\n",
    "\n",
    "    for area in areas:\n",
    "        temp_by_code_areas = temp_by_code.loc[temp_by_code.전용면적==area].reset_index(drop=True)\n",
    "\n",
    "        if temp_by_code_areas.shape[0] !=0:\n",
    "            df_train_edited.loc[order, f'면적_{int(area)}'] = temp_by_code_areas.전용면적별세대수.sum() / temp_by_code_areas.총세대수[0]\n",
    "        else:\n",
    "            df_train_edited.loc[order, f'면적_{int(area)}'] = 0\n",
    "\n",
    "\n",
    "df_train_edited[\"임대비율\"] = df_train_edited.총임대가구수 / df_train_edited.총세대수\n",
    "df_train_edited[\"가구당주차면수\"] = df_train_edited.단지내주차면수 / df_train_edited.총세대수\n",
    "\n",
    "## gender 정보 병합 \n",
    "df_train_edited = pd.merge(df_train_edited, df_gender, left_on= [ \"지역\"], right_on= [\"지역\"], how='left')\n",
    "\n",
    "\n",
    "df_train_edited"
   ]
  },
  {
   "cell_type": "code",
   "execution_count": 57,
   "metadata": {},
   "outputs": [
    {
     "output_type": "execute_result",
     "data": {
      "text/plain": [
       "      단지코드    총세대수    지역   공가수  지하철    버스  단지내주차면수  총임대가구수     면적_15  \\\n",
       "0    C1072   754.0   1.0  14.0  0.0   2.0    683.0   754.0  0.000000   \n",
       "1    C1128  1354.0   1.0   9.0  0.0   3.0   1216.0  1354.0  0.000000   \n",
       "2    C1456   619.0   7.0  18.0  0.0  16.0    547.0   619.0  0.000000   \n",
       "3    C1840   593.0  11.0   7.0  0.0   3.0    543.0   593.0  0.000000   \n",
       "4    C1332  1297.0   1.0  11.0  0.0   2.0   1112.0  1297.0  0.000000   \n",
       "..     ...     ...   ...   ...  ...   ...      ...     ...       ...   \n",
       "145  C2456   349.0  12.0  17.0  0.0   4.0    270.0   346.0  0.000000   \n",
       "146  C1266   596.0  14.0  35.0  0.0   1.0    593.0   591.0  0.000000   \n",
       "147  C2152   120.0   0.0   9.0  0.0   1.0     40.0   120.0  0.000000   \n",
       "148  C1267   675.0   2.0  38.0  0.0   1.0    467.0   670.0  0.074074   \n",
       "149  C2189   382.0  11.0  45.0  0.0   2.0    300.0   378.0  0.000000   \n",
       "\n",
       "        면적_20  ...   60대(여자)   60대(남자)   70대(여자)   70대(남자)   80대(여자)  \\\n",
       "0    0.000000  ...  0.074237  0.058419  0.042422  0.032725  0.025136   \n",
       "1    0.000000  ...  0.074237  0.058419  0.042422  0.032725  0.025136   \n",
       "2    0.000000  ...  0.109297  0.085294  0.078743  0.053388  0.047908   \n",
       "3    0.000000  ...  0.071465  0.062352  0.042535  0.030704  0.027340   \n",
       "4    0.000000  ...  0.074237  0.058419  0.042422  0.032725  0.025136   \n",
       "..        ...  ...       ...       ...       ...       ...       ...   \n",
       "145  0.320917  ...  0.076636  0.068042  0.051025  0.035748  0.035049   \n",
       "146  0.302013  ...  0.070278  0.057692  0.042296  0.028682  0.024514   \n",
       "147  0.550000  ...  0.088423  0.070014  0.047732  0.032760  0.033515   \n",
       "148  0.465185  ...  0.087201  0.069562  0.048357  0.033277  0.027361   \n",
       "149  0.303665  ...  0.071465  0.062352  0.042535  0.030704  0.027340   \n",
       "\n",
       "      80대(남자)   90대(여자)   90대(남자)  100대(여자)  100대(남자)  \n",
       "0    0.012354  0.005390  0.001707  0.000290  0.000067  \n",
       "1    0.012354  0.005390  0.001707  0.000290  0.000067  \n",
       "2    0.020228  0.008043  0.002240  0.000268  0.000028  \n",
       "3    0.009312  0.005965  0.001458  0.000149  0.000464  \n",
       "4    0.012354  0.005390  0.001707  0.000290  0.000067  \n",
       "..        ...       ...       ...       ...       ...  \n",
       "145  0.012641  0.007223  0.001898  0.000158  0.000013  \n",
       "146  0.010900  0.005429  0.001549  0.000219  0.000123  \n",
       "147  0.013027  0.007628  0.001677  0.000319  0.000017  \n",
       "148  0.011295  0.004910  0.001086  0.000179  0.000010  \n",
       "149  0.009312  0.005965  0.001458  0.000149  0.000464  \n",
       "\n",
       "[150 rows x 41 columns]"
      ],
      "text/html": "<div>\n<style scoped>\n    .dataframe tbody tr th:only-of-type {\n        vertical-align: middle;\n    }\n\n    .dataframe tbody tr th {\n        vertical-align: top;\n    }\n\n    .dataframe thead th {\n        text-align: right;\n    }\n</style>\n<table border=\"1\" class=\"dataframe\">\n  <thead>\n    <tr style=\"text-align: right;\">\n      <th></th>\n      <th>단지코드</th>\n      <th>총세대수</th>\n      <th>지역</th>\n      <th>공가수</th>\n      <th>지하철</th>\n      <th>버스</th>\n      <th>단지내주차면수</th>\n      <th>총임대가구수</th>\n      <th>면적_15</th>\n      <th>면적_20</th>\n      <th>...</th>\n      <th>60대(여자)</th>\n      <th>60대(남자)</th>\n      <th>70대(여자)</th>\n      <th>70대(남자)</th>\n      <th>80대(여자)</th>\n      <th>80대(남자)</th>\n      <th>90대(여자)</th>\n      <th>90대(남자)</th>\n      <th>100대(여자)</th>\n      <th>100대(남자)</th>\n    </tr>\n  </thead>\n  <tbody>\n    <tr>\n      <th>0</th>\n      <td>C1072</td>\n      <td>754.0</td>\n      <td>1.0</td>\n      <td>14.0</td>\n      <td>0.0</td>\n      <td>2.0</td>\n      <td>683.0</td>\n      <td>754.0</td>\n      <td>0.000000</td>\n      <td>0.000000</td>\n      <td>...</td>\n      <td>0.074237</td>\n      <td>0.058419</td>\n      <td>0.042422</td>\n      <td>0.032725</td>\n      <td>0.025136</td>\n      <td>0.012354</td>\n      <td>0.005390</td>\n      <td>0.001707</td>\n      <td>0.000290</td>\n      <td>0.000067</td>\n    </tr>\n    <tr>\n      <th>1</th>\n      <td>C1128</td>\n      <td>1354.0</td>\n      <td>1.0</td>\n      <td>9.0</td>\n      <td>0.0</td>\n      <td>3.0</td>\n      <td>1216.0</td>\n      <td>1354.0</td>\n      <td>0.000000</td>\n      <td>0.000000</td>\n      <td>...</td>\n      <td>0.074237</td>\n      <td>0.058419</td>\n      <td>0.042422</td>\n      <td>0.032725</td>\n      <td>0.025136</td>\n      <td>0.012354</td>\n      <td>0.005390</td>\n      <td>0.001707</td>\n      <td>0.000290</td>\n      <td>0.000067</td>\n    </tr>\n    <tr>\n      <th>2</th>\n      <td>C1456</td>\n      <td>619.0</td>\n      <td>7.0</td>\n      <td>18.0</td>\n      <td>0.0</td>\n      <td>16.0</td>\n      <td>547.0</td>\n      <td>619.0</td>\n      <td>0.000000</td>\n      <td>0.000000</td>\n      <td>...</td>\n      <td>0.109297</td>\n      <td>0.085294</td>\n      <td>0.078743</td>\n      <td>0.053388</td>\n      <td>0.047908</td>\n      <td>0.020228</td>\n      <td>0.008043</td>\n      <td>0.002240</td>\n      <td>0.000268</td>\n      <td>0.000028</td>\n    </tr>\n    <tr>\n      <th>3</th>\n      <td>C1840</td>\n      <td>593.0</td>\n      <td>11.0</td>\n      <td>7.0</td>\n      <td>0.0</td>\n      <td>3.0</td>\n      <td>543.0</td>\n      <td>593.0</td>\n      <td>0.000000</td>\n      <td>0.000000</td>\n      <td>...</td>\n      <td>0.071465</td>\n      <td>0.062352</td>\n      <td>0.042535</td>\n      <td>0.030704</td>\n      <td>0.027340</td>\n      <td>0.009312</td>\n      <td>0.005965</td>\n      <td>0.001458</td>\n      <td>0.000149</td>\n      <td>0.000464</td>\n    </tr>\n    <tr>\n      <th>4</th>\n      <td>C1332</td>\n      <td>1297.0</td>\n      <td>1.0</td>\n      <td>11.0</td>\n      <td>0.0</td>\n      <td>2.0</td>\n      <td>1112.0</td>\n      <td>1297.0</td>\n      <td>0.000000</td>\n      <td>0.000000</td>\n      <td>...</td>\n      <td>0.074237</td>\n      <td>0.058419</td>\n      <td>0.042422</td>\n      <td>0.032725</td>\n      <td>0.025136</td>\n      <td>0.012354</td>\n      <td>0.005390</td>\n      <td>0.001707</td>\n      <td>0.000290</td>\n      <td>0.000067</td>\n    </tr>\n    <tr>\n      <th>...</th>\n      <td>...</td>\n      <td>...</td>\n      <td>...</td>\n      <td>...</td>\n      <td>...</td>\n      <td>...</td>\n      <td>...</td>\n      <td>...</td>\n      <td>...</td>\n      <td>...</td>\n      <td>...</td>\n      <td>...</td>\n      <td>...</td>\n      <td>...</td>\n      <td>...</td>\n      <td>...</td>\n      <td>...</td>\n      <td>...</td>\n      <td>...</td>\n      <td>...</td>\n      <td>...</td>\n    </tr>\n    <tr>\n      <th>145</th>\n      <td>C2456</td>\n      <td>349.0</td>\n      <td>12.0</td>\n      <td>17.0</td>\n      <td>0.0</td>\n      <td>4.0</td>\n      <td>270.0</td>\n      <td>346.0</td>\n      <td>0.000000</td>\n      <td>0.320917</td>\n      <td>...</td>\n      <td>0.076636</td>\n      <td>0.068042</td>\n      <td>0.051025</td>\n      <td>0.035748</td>\n      <td>0.035049</td>\n      <td>0.012641</td>\n      <td>0.007223</td>\n      <td>0.001898</td>\n      <td>0.000158</td>\n      <td>0.000013</td>\n    </tr>\n    <tr>\n      <th>146</th>\n      <td>C1266</td>\n      <td>596.0</td>\n      <td>14.0</td>\n      <td>35.0</td>\n      <td>0.0</td>\n      <td>1.0</td>\n      <td>593.0</td>\n      <td>591.0</td>\n      <td>0.000000</td>\n      <td>0.302013</td>\n      <td>...</td>\n      <td>0.070278</td>\n      <td>0.057692</td>\n      <td>0.042296</td>\n      <td>0.028682</td>\n      <td>0.024514</td>\n      <td>0.010900</td>\n      <td>0.005429</td>\n      <td>0.001549</td>\n      <td>0.000219</td>\n      <td>0.000123</td>\n    </tr>\n    <tr>\n      <th>147</th>\n      <td>C2152</td>\n      <td>120.0</td>\n      <td>0.0</td>\n      <td>9.0</td>\n      <td>0.0</td>\n      <td>1.0</td>\n      <td>40.0</td>\n      <td>120.0</td>\n      <td>0.000000</td>\n      <td>0.550000</td>\n      <td>...</td>\n      <td>0.088423</td>\n      <td>0.070014</td>\n      <td>0.047732</td>\n      <td>0.032760</td>\n      <td>0.033515</td>\n      <td>0.013027</td>\n      <td>0.007628</td>\n      <td>0.001677</td>\n      <td>0.000319</td>\n      <td>0.000017</td>\n    </tr>\n    <tr>\n      <th>148</th>\n      <td>C1267</td>\n      <td>675.0</td>\n      <td>2.0</td>\n      <td>38.0</td>\n      <td>0.0</td>\n      <td>1.0</td>\n      <td>467.0</td>\n      <td>670.0</td>\n      <td>0.074074</td>\n      <td>0.465185</td>\n      <td>...</td>\n      <td>0.087201</td>\n      <td>0.069562</td>\n      <td>0.048357</td>\n      <td>0.033277</td>\n      <td>0.027361</td>\n      <td>0.011295</td>\n      <td>0.004910</td>\n      <td>0.001086</td>\n      <td>0.000179</td>\n      <td>0.000010</td>\n    </tr>\n    <tr>\n      <th>149</th>\n      <td>C2189</td>\n      <td>382.0</td>\n      <td>11.0</td>\n      <td>45.0</td>\n      <td>0.0</td>\n      <td>2.0</td>\n      <td>300.0</td>\n      <td>378.0</td>\n      <td>0.000000</td>\n      <td>0.303665</td>\n      <td>...</td>\n      <td>0.071465</td>\n      <td>0.062352</td>\n      <td>0.042535</td>\n      <td>0.030704</td>\n      <td>0.027340</td>\n      <td>0.009312</td>\n      <td>0.005965</td>\n      <td>0.001458</td>\n      <td>0.000149</td>\n      <td>0.000464</td>\n    </tr>\n  </tbody>\n</table>\n<p>150 rows × 41 columns</p>\n</div>"
     },
     "metadata": {},
     "execution_count": 57
    }
   ],
   "source": [
    "df_test.loc[:,'총전용면적'] = df_test.loc[:,'전용면적'] * df_test.loc[:,'전용면적별세대수']\n",
    "\n",
    "codes = df_test.단지코드.unique()\n",
    "areas = np.sort(df_test.전용면적.unique())\n",
    "\n",
    "df_test_edited = pd.DataFrame()\n",
    "columns = ['단지코드', '총세대수', '지역', '공가수','지하철', '버스', '단지내주차면수']\n",
    "\n",
    "for order, code in enumerate(codes):\n",
    "    temp_by_code = df_test.loc[df_test.단지코드==code].reset_index(drop=True)\n",
    "    ## 원 계열 값 그냥 가져오기 \n",
    "    df_test_edited.loc[order, columns] = temp_by_code.loc[0, columns]             \n",
    "    df_test_edited.loc[order, \"총임대가구수\"] = temp_by_code.전용면적별세대수.sum()\n",
    "\n",
    "    for area in areas:\n",
    "        temp_by_code_areas = temp_by_code.loc[temp_by_code.전용면적==area].reset_index(drop=True)\n",
    "\n",
    "        if temp_by_code_areas.shape[0] !=0:\n",
    "            df_test_edited.loc[order, f'면적_{int(area)}'] = temp_by_code_areas.전용면적별세대수.sum() / temp_by_code_areas.총세대수[0]\n",
    "        else:\n",
    "            df_test_edited.loc[order, f'면적_{int(area)}'] = 0\n",
    "\n",
    "\n",
    "df_test_edited[\"임대비율\"] = df_test_edited.총임대가구수 / df_test_edited.총세대수\n",
    "df_test_edited[\"가구당주차면수\"] = df_test_edited.단지내주차면수 / df_test_edited.총세대수\n",
    "## gender 정보 병합 \n",
    "df_test_edited = pd.merge(df_test_edited, df_gender, left_on= [ \"지역\"], right_on= [\"지역\"], how='left')\n",
    "\n",
    "\n",
    "df_test_edited"
   ]
  },
  {
   "cell_type": "code",
   "execution_count": 58,
   "metadata": {},
   "outputs": [
    {
     "output_type": "execute_result",
     "data": {
      "text/plain": [
       "등록차량수        1.000000\n",
       "단지내주차면수      0.848199\n",
       "총세대수         0.579290\n",
       "총임대가구수       0.565676\n",
       "가구당주차면수      0.476397\n",
       "면적_70        0.316414\n",
       "면적_30        0.283405\n",
       "면적_100       0.260449\n",
       "면적_20        0.234612\n",
       "면적_50        0.204213\n",
       "20대(여자)      0.198915\n",
       "면적_80        0.196680\n",
       "면적_60        0.190025\n",
       "10대(남자)      0.175660\n",
       "50대(남자)      0.174224\n",
       "면적_15        0.173557\n",
       "10대(여자)      0.171309\n",
       "공가수          0.167420\n",
       "20대(남자)      0.166324\n",
       "40대(남자)      0.135419\n",
       "100대(여자)     0.134920\n",
       "지역           0.118390\n",
       "70대(남자)      0.116219\n",
       "버스           0.108576\n",
       "90대(남자)      0.107165\n",
       "30대(남자)      0.103909\n",
       "80대(남자)      0.102893\n",
       "70대(여자)      0.095140\n",
       "임대비율         0.094771\n",
       "50대(여자)      0.088131\n",
       "30대(여자)      0.084189\n",
       "60대(여자)      0.067345\n",
       "10대미만(남자)    0.049087\n",
       "100대(남자)     0.039032\n",
       "10대미만(여자)    0.029674\n",
       "면적_40        0.027273\n",
       "60대(남자)      0.021423\n",
       "지하철          0.013439\n",
       "80대(여자)      0.010632\n",
       "40대(여자)      0.006328\n",
       "90대(여자)      0.001801\n",
       "Name: 등록차량수, dtype: float64"
      ]
     },
     "metadata": {},
     "execution_count": 58
    }
   ],
   "source": [
    "corr = df_train_edited.drop(['단지코드'],1,).corr()[\"등록차량수\"].abs().sort_values(ascending=False)\n",
    "corr"
   ]
  },
  {
   "cell_type": "code",
   "execution_count": 59,
   "metadata": {},
   "outputs": [],
   "source": [
    "X = df_train_edited.copy()\n",
    "X = X.loc[:,corr.index[0:20]]\n",
    "X.drop(['등록차량수',  ],axis=1, inplace=True)\n",
    "feature_names = X.columns.to_list()\n",
    "# scaler = StandardScaler()\n",
    "# X = scaler.fit(X).transform(X)\n",
    " \n",
    "y = df_train_edited.iloc[:,1]\n",
    " \n",
    "# 피쳐 선택은 나중에 우선 상관도 높은 20개 사용 "
   ]
  },
  {
   "cell_type": "code",
   "execution_count": 60,
   "metadata": {},
   "outputs": [
    {
     "output_type": "stream",
     "name": "stdout",
     "text": [
      "RF\n",
      "LR\n",
      "RD\n",
      "LS\n",
      "ET\n",
      "XGB\n",
      "LGB\n",
      "CB\n",
      "PLS\n"
     ]
    }
   ],
   "source": [
    "models = {'RF' : RandomForestRegressor(), 'LR': LinearRegression() , 'RD' : Ridge(), 'LS' : Lasso(), 'ET' : ElasticNet(),\n",
    "          'XGB' : XGBRegressor(), \n",
    "          'LGB' : LGB.LGBMRegressor(), \n",
    "          'CB' : CatBoostRegressor(logging_level='Silent'), \n",
    "          'PLS' : PLSRegression()}\n",
    "\n",
    "#CatBoostRegressor은 시끄러운 녀석이라 닥쳐\n",
    "kfold = KFold(n_splits=5, shuffle = True, random_state=0)\n",
    "# n_split : 몇개로 분할할지\n",
    "# shuffle : Fold를 나누기 전에 무작위로 섞을지\n",
    "# random_state : 나눈 Fold를 그대로 사용할지\n",
    "answer = []\n",
    "for model in models.keys():\n",
    "    print(model)\n",
    "    scores = cross_val_score(models[model] , X, y, cv=kfold, scoring='neg_mean_absolute_error')\n",
    "    answer.append(scores)\n",
    "\n",
    "corss_val_result = pd.DataFrame(answer)\n",
    "corss_val_result.index = models.keys()\n",
    "corss_val_result['mean'] = corss_val_result.mean(axis=1)"
   ]
  },
  {
   "cell_type": "code",
   "execution_count": 61,
   "metadata": {},
   "outputs": [
    {
     "output_type": "execute_result",
     "data": {
      "text/plain": [
       "              0           1           2           3           4        mean\n",
       "RF  -143.283765 -119.286118 -117.420000 -121.728929 -143.539286 -129.051619\n",
       "LR  -138.266205 -123.986512 -115.955544 -305.571258 -137.426946 -164.241293\n",
       "RD  -138.930598 -127.732635 -117.046521 -128.774127 -130.901242 -128.677025\n",
       "LS  -139.224551 -126.025627 -117.472257 -126.730904 -131.649221 -128.220512\n",
       "ET  -137.533804 -124.064445 -135.000941 -138.565949 -145.084258 -136.049879\n",
       "XGB -151.366301 -121.316221 -132.768127 -124.852012 -140.467213 -134.153975\n",
       "LGB -138.062384 -108.977738 -126.682788 -120.568707 -128.222801 -124.502884\n",
       "CB  -124.112492 -104.008765 -118.742551 -128.385654 -131.110176 -121.271928\n",
       "PLS -152.850373 -125.449598 -136.717925 -234.390749 -151.480504 -160.177830"
      ],
      "text/html": "<div>\n<style scoped>\n    .dataframe tbody tr th:only-of-type {\n        vertical-align: middle;\n    }\n\n    .dataframe tbody tr th {\n        vertical-align: top;\n    }\n\n    .dataframe thead th {\n        text-align: right;\n    }\n</style>\n<table border=\"1\" class=\"dataframe\">\n  <thead>\n    <tr style=\"text-align: right;\">\n      <th></th>\n      <th>0</th>\n      <th>1</th>\n      <th>2</th>\n      <th>3</th>\n      <th>4</th>\n      <th>mean</th>\n    </tr>\n  </thead>\n  <tbody>\n    <tr>\n      <th>RF</th>\n      <td>-143.283765</td>\n      <td>-119.286118</td>\n      <td>-117.420000</td>\n      <td>-121.728929</td>\n      <td>-143.539286</td>\n      <td>-129.051619</td>\n    </tr>\n    <tr>\n      <th>LR</th>\n      <td>-138.266205</td>\n      <td>-123.986512</td>\n      <td>-115.955544</td>\n      <td>-305.571258</td>\n      <td>-137.426946</td>\n      <td>-164.241293</td>\n    </tr>\n    <tr>\n      <th>RD</th>\n      <td>-138.930598</td>\n      <td>-127.732635</td>\n      <td>-117.046521</td>\n      <td>-128.774127</td>\n      <td>-130.901242</td>\n      <td>-128.677025</td>\n    </tr>\n    <tr>\n      <th>LS</th>\n      <td>-139.224551</td>\n      <td>-126.025627</td>\n      <td>-117.472257</td>\n      <td>-126.730904</td>\n      <td>-131.649221</td>\n      <td>-128.220512</td>\n    </tr>\n    <tr>\n      <th>ET</th>\n      <td>-137.533804</td>\n      <td>-124.064445</td>\n      <td>-135.000941</td>\n      <td>-138.565949</td>\n      <td>-145.084258</td>\n      <td>-136.049879</td>\n    </tr>\n    <tr>\n      <th>XGB</th>\n      <td>-151.366301</td>\n      <td>-121.316221</td>\n      <td>-132.768127</td>\n      <td>-124.852012</td>\n      <td>-140.467213</td>\n      <td>-134.153975</td>\n    </tr>\n    <tr>\n      <th>LGB</th>\n      <td>-138.062384</td>\n      <td>-108.977738</td>\n      <td>-126.682788</td>\n      <td>-120.568707</td>\n      <td>-128.222801</td>\n      <td>-124.502884</td>\n    </tr>\n    <tr>\n      <th>CB</th>\n      <td>-124.112492</td>\n      <td>-104.008765</td>\n      <td>-118.742551</td>\n      <td>-128.385654</td>\n      <td>-131.110176</td>\n      <td>-121.271928</td>\n    </tr>\n    <tr>\n      <th>PLS</th>\n      <td>-152.850373</td>\n      <td>-125.449598</td>\n      <td>-136.717925</td>\n      <td>-234.390749</td>\n      <td>-151.480504</td>\n      <td>-160.177830</td>\n    </tr>\n  </tbody>\n</table>\n</div>"
     },
     "metadata": {},
     "execution_count": 61
    }
   ],
   "source": [
    "corss_val_result"
   ]
  },
  {
   "cell_type": "code",
   "execution_count": 63,
   "metadata": {},
   "outputs": [],
   "source": [
    "model = RF = RandomForestRegressor(n_jobs=-1, random_state=300, max_depth =12,\tmin_samples_leaf =2,\tmin_samples_split=2,\tn_estimators=200)\n",
    "model.fit(X, y)\n",
    " \n",
    "X_test = df_test_edited[feature_names]\n",
    "\n",
    "pred = RF.predict(X_test)             \n",
    "\n",
    "df_sub['num'] = pred \n",
    "df_sub.to_csv(dir+'baseline2.csv', index=False)"
   ]
  },
  {
   "cell_type": "code",
   "execution_count": null,
   "metadata": {},
   "outputs": [],
   "source": []
  }
 ]
}