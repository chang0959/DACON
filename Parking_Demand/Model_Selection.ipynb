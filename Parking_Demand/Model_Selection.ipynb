{
 "metadata": {
  "language_info": {
   "codemirror_mode": {
    "name": "ipython",
    "version": 3
   },
   "file_extension": ".py",
   "mimetype": "text/x-python",
   "name": "python",
   "nbconvert_exporter": "python",
   "pygments_lexer": "ipython3",
   "version": "3.9.4"
  },
  "orig_nbformat": 4,
  "kernelspec": {
   "name": "python3",
   "display_name": "Python 3.9.4 64-bit ('dacon': conda)"
  },
  "interpreter": {
   "hash": "53c1d1edd8043780bf97efbc44e12c0cc06ae72d1c24902ec21fcb8500fae62d"
  }
 },
 "nbformat": 4,
 "nbformat_minor": 2,
 "cells": [
  {
   "cell_type": "code",
   "execution_count": 1,
   "metadata": {},
   "outputs": [],
   "source": [
    "import pandas as pd\n",
    "import numpy as np\n",
    "import seaborn as sns\n",
    "from tqdm import tqdm\n",
    "import warnings\n",
    "warnings.filterwarnings('ignore')\n",
    "import matplotlib.pyplot as plt\n",
    " \n",
    "#폰트 설정          \n",
    "from matplotlib import rc  \n",
    "%matplotlib inline          \n",
    "rc('font', family='AppleGothic' )\n",
    "plt.rcParams['axes.unicode_minus'] = False  \n"
   ]
  },
  {
   "cell_type": "code",
   "execution_count": 2,
   "metadata": {},
   "outputs": [],
   "source": [
    "#전처리 함수\n",
    "def prepro():   \n",
    "    #데이터 불러오기\n",
    "    dir='/Users/yuchanghee/Desktop/DACON/Parking_Demand/data/'\n",
    "    train= pd.read_csv(dir+'train.csv') \n",
    "    test= pd.read_csv(dir+'test.csv') \n",
    "    age_gender_info=pd.read_csv(dir+'age_gender_info.csv')\n",
    "    sample_submission=pd.read_csv(dir+'sample_submission.csv')\n",
    "    train=train.rename({'도보 10분거리 내 지하철역 수(환승노선 수 반영)': '지하철', '도보 10분거리 내 버스정류장 수': '버스'},axis=1)\n",
    "    test=test.rename({'도보 10분거리 내 지하철역 수(환승노선 수 반영)': '지하철', '도보 10분거리 내 버스정류장 수': '버스'},axis=1)\n",
    "    age_gender_info=age_gender_info.set_index('지역')\n",
    "    age_gender_info.loc['전체 분포 평균']=age_gender_info.mean()        \n",
    "    age_gender_info.loc['광역시 평균']=age_gender_info[age_gender_info.index.str.contains('시')].mean()\n",
    "    age_gender_info.loc['도 평균']=age_gender_info[age_gender_info.index.str.contains('도')].mean()\n",
    "\n",
    "    #데이터 concat, 중복제거 \n",
    "    total=pd.concat([train,test],axis=0) \n",
    "    total.reset_index(drop=True, inplace=True) \n",
    "    total=total.drop_duplicates().reset_index(drop=True) \n",
    "\n",
    "    #null 처리\n",
    "    #1. 자격유형 null\n",
    "    total.loc[(total['자격유형'].isnull()) & (total['단지코드']=='C2411'), '자격유형']='A'\n",
    "    total.loc[(total['자격유형'].isnull()) & (total['단지코드']=='C2253'), '자격유형']='C'\n",
    "\n",
    "    #2. 임대료, 임대보증금 null \n",
    "    total['임대료'].replace('-',np.nan,inplace=True)  \n",
    "    total['임대보증금'].replace('-',np.nan,inplace=True)\n",
    "    total['임대료']=total['임대료'].astype(np.float64)   \n",
    "    total['임대보증금']=total['임대보증금'].astype(np.float64) \n",
    "\n",
    "    #2.1 아파트 - 지역과 공급유형에 따라 임대료, 임대보증금 처리\n",
    "    total.loc[total['공급유형']=='장기전세', '임대료']=0 #장기전세는 장기전세는 임대료가 없으므로 0\n",
    "    total.loc[2707,'임대보증금']=5787000.0 \n",
    "    total.loc[2707,'임대료']=79980.0 \n",
    "    total.loc[2709,'임대보증금']=11574000.0 \n",
    "    total.loc[2709,'임대료']=159960.0\n",
    "    total.loc[(total['지역']=='대전광역시') & (total['공급유형']=='공공분양'), ['임대료','임대보증금']]=0  #공공분양의 경우 보증금, 임대료 없으므로 총분양가 변수 생성 \n",
    "    total['총분양가']=0.0\n",
    "    total.loc[(total['지역']=='대전광역시') & (total['공급유형']=='공공분양'), '총분양가']=[221640000, 217200000, 221640000, 251220000, 251220000, 251260000, 251320000]\n",
    "    total.loc[(total['임대건물구분']=='아파트') & (total['임대보증금'].isnull()) & (total['지역'] == '부산광역시'), '임대보증금'] = [7000000,7000000,7600000,14800000,23100000]  \n",
    "    total.loc[(total['임대건물구분']=='아파트') & (total['임대료'].isnull()) & (total['지역'] == '부산광역시'), '임대료']= [135000, 135000, 142000, 198000, 259000]    \n",
    "    total.loc[(total['임대건물구분']=='아파트') & (total['임대보증금'].isnull()) & (total['지역'] == '대구광역시'), '임대보증금'] = [10847000, 10847000, 17338000] \n",
    "    total.loc[(total['임대건물구분']=='아파트') & (total['임대료'].isnull()) & (total['지역'] == '대구광역시'), '임대료'] = [138600, 138600, 197500]  \n",
    "    total.loc[(total['지역']=='경상남도') & (total['공급유형']=='행복주택') & (total['임대보증금'].isnull()) & (total['전용면적']==16.94) , '임대보증금']=14965000.0 \n",
    "    total.loc[(total['지역']=='경상남도') & (total['공급유형']=='행복주택') & (total['임대료'].isnull()) & (total['전용면적']==16.94) , '임대료']=70915.0 \n",
    "    total.loc[(total['지역']=='경상남도') & (total['공급유형']=='행복주택') & (total['임대보증금'].isnull()) & (total['전용면적']==36.770) , '임대보증금']=34140000.000\n",
    "    total.loc[(total['지역']=='경상남도') & (total['공급유형']=='행복주택') & (total['임대료'].isnull()) & (total['전용면적']==36.770) , '임대료']=167000.000  \n",
    "    total.loc[(total['지역']=='경상남도') & (total['공급유형']=='행복주택') & (total['임대보증금'].isnull()) & (total['전용면적']==26.850) , '임대보증금'] = 25000000.000 \n",
    "    total.loc[(total['지역']=='경상남도') & (total['공급유형']=='행복주택') & (total['임대료'].isnull()) & (total['전용면적']==26.850) , '임대료'] = 130000.000 \n",
    "    total.loc[(total['지역']=='강원도') & (total['공급유형']=='행복주택') & total['임대보증금'].isnull() , '임대보증금']= [13181000, 19700000, 19150000, 21679000]  \n",
    "    total.loc[(total['지역']=='강원도') & (total['공급유형']=='행복주택') & total['임대료'].isnull() , '임대료'] = [65500, 96000, 94000, 105000] \n",
    "    total.loc[(total['지역']=='강원도') & (total['공급유형']=='영구임대') & total['임대보증금'].isnull(), '임대보증금']=[2129000, 2902000]\n",
    "    total.loc[(total['지역']=='강원도') & (total['공급유형']=='영구임대') & total['임대료'].isnull(), '임대료']=[42350, 57730]\n",
    "\n",
    "    #2.2 상가 - \n",
    "\n",
    "    #3. 버스 - 임대보증금, 등록차량수와 상관성이 있으므로 그에 따라 대체 \n",
    "    total.loc[(total['지역']=='경상남도') & (total['공급유형']=='공공임대(10년)') & (total['지하철'].isnull()) , '지하철']=0\n",
    "    total.loc[(total['지역']=='경상남도') & (total['공급유형']=='공공임대(10년)') &(total['버스'].isnull()), '버스'] = 3\n",
    "\n",
    "    #4. 지하철 - 일괄적으로 0처리 \n",
    "    total['지하철']=total['지하철'].fillna(0)  \n",
    "    total['지하철'].value_counts(dropna=False)\n",
    "    \n",
    "    #성별, 세대 merge\n",
    "    total_age=total.merge(age_gender_info.reset_index(), on='지역', how='inner') \n",
    "    return total, total_age"
   ]
  },
  {
   "cell_type": "code",
   "execution_count": 3,
   "metadata": {},
   "outputs": [],
   "source": [
    "total, total_age=prepro()"
   ]
  },
  {
   "cell_type": "code",
   "execution_count": 4,
   "metadata": {},
   "outputs": [
    {
     "output_type": "execute_result",
     "data": {
      "text/plain": [
       "단지코드           0\n",
       "총세대수           0\n",
       "임대건물구분         0\n",
       "지역             0\n",
       "공급유형           0\n",
       "전용면적           0\n",
       "전용면적별세대수       0\n",
       "공가수            0\n",
       "자격유형           0\n",
       "임대보증금        397\n",
       "임대료          397\n",
       "지하철            0\n",
       "버스             0\n",
       "단지내주차면수        0\n",
       "등록차량수        949\n",
       "총분양가           0\n",
       "10대미만(여자)      0\n",
       "10대미만(남자)      0\n",
       "10대(여자)        0\n",
       "10대(남자)        0\n",
       "20대(여자)        0\n",
       "20대(남자)        0\n",
       "30대(여자)        0\n",
       "30대(남자)        0\n",
       "40대(여자)        0\n",
       "40대(남자)        0\n",
       "50대(여자)        0\n",
       "50대(남자)        0\n",
       "60대(여자)        0\n",
       "60대(남자)        0\n",
       "70대(여자)        0\n",
       "70대(남자)        0\n",
       "80대(여자)        0\n",
       "80대(남자)        0\n",
       "90대(여자)        0\n",
       "90대(남자)        0\n",
       "100대(여자)       0\n",
       "100대(남자)       0\n",
       "dtype: int64"
      ]
     },
     "metadata": {},
     "execution_count": 4
    }
   ],
   "source": [
    "total_age.isnull().sum()"
   ]
  },
  {
   "cell_type": "code",
   "execution_count": 10,
   "metadata": {},
   "outputs": [
    {
     "output_type": "execute_result",
     "data": {
      "text/plain": [
       "부산광역시      152\n",
       "대전광역시       71\n",
       "충청남도        59\n",
       "경상남도        45\n",
       "강원도         39\n",
       "울산광역시       28\n",
       "제주특별자치도      3\n",
       "Name: 지역, dtype: int64"
      ]
     },
     "metadata": {},
     "execution_count": 10
    }
   ],
   "source": [
    "#상가 null 처리\n",
    "#해당 지역\n",
    "total[total['임대보증금'].isnull()]['지역'].value_counts()"
   ]
  },
  {
   "cell_type": "code",
   "execution_count": 20,
   "metadata": {},
   "outputs": [
    {
     "output_type": "execute_result",
     "data": {
      "text/plain": [
       "       단지코드  총세대수 임대건물구분     지역  공급유형    전용면적  전용면적별세대수   공가수 자격유형  임대보증금  \\\n",
       "271   C2135  1116     상가  부산광역시  임대상가   14.10         1  10.0    D    NaN   \n",
       "272   C2135  1116     상가  부산광역시  임대상가   18.98         1  10.0    D    NaN   \n",
       "273   C2135  1116     상가  부산광역시  임대상가   19.36         1  10.0    D    NaN   \n",
       "274   C2135  1116     상가  부산광역시  임대상가   21.46         1  10.0    D    NaN   \n",
       "275   C2135  1116     상가  부산광역시  임대상가   22.83         1  10.0    D    NaN   \n",
       "...     ...   ...    ...    ...   ...     ...       ...   ...  ...    ...   \n",
       "2761  C2676  2572     상가  부산광역시  임대상가   54.60         1  25.0    D    NaN   \n",
       "2762  C2676  2572     상가  부산광역시  임대상가   54.61         1  25.0    D    NaN   \n",
       "2763  C2676  2572     상가  부산광역시  임대상가   75.98         1  25.0    D    NaN   \n",
       "2764  C2676  2572     상가  부산광역시  임대상가  404.65         1  25.0    D    NaN   \n",
       "2765  C2676  2572     상가  부산광역시  임대상가  583.40         1  25.0    D    NaN   \n",
       "\n",
       "      임대료  지하철   버스  단지내주차면수  등록차량수  총분양가  \n",
       "271   NaN  1.0  3.0    262.0  127.0   0.0  \n",
       "272   NaN  1.0  3.0    262.0  127.0   0.0  \n",
       "273   NaN  1.0  3.0    262.0  127.0   0.0  \n",
       "274   NaN  1.0  3.0    262.0  127.0   0.0  \n",
       "275   NaN  1.0  3.0    262.0  127.0   0.0  \n",
       "...   ...  ...  ...      ...    ...   ...  \n",
       "2761  NaN  0.0  2.0    418.0    NaN   0.0  \n",
       "2762  NaN  0.0  2.0    418.0    NaN   0.0  \n",
       "2763  NaN  0.0  2.0    418.0    NaN   0.0  \n",
       "2764  NaN  0.0  2.0    418.0    NaN   0.0  \n",
       "2765  NaN  0.0  2.0    418.0    NaN   0.0  \n",
       "\n",
       "[152 rows x 16 columns]"
      ],
      "text/html": "<div>\n<style scoped>\n    .dataframe tbody tr th:only-of-type {\n        vertical-align: middle;\n    }\n\n    .dataframe tbody tr th {\n        vertical-align: top;\n    }\n\n    .dataframe thead th {\n        text-align: right;\n    }\n</style>\n<table border=\"1\" class=\"dataframe\">\n  <thead>\n    <tr style=\"text-align: right;\">\n      <th></th>\n      <th>단지코드</th>\n      <th>총세대수</th>\n      <th>임대건물구분</th>\n      <th>지역</th>\n      <th>공급유형</th>\n      <th>전용면적</th>\n      <th>전용면적별세대수</th>\n      <th>공가수</th>\n      <th>자격유형</th>\n      <th>임대보증금</th>\n      <th>임대료</th>\n      <th>지하철</th>\n      <th>버스</th>\n      <th>단지내주차면수</th>\n      <th>등록차량수</th>\n      <th>총분양가</th>\n    </tr>\n  </thead>\n  <tbody>\n    <tr>\n      <th>271</th>\n      <td>C2135</td>\n      <td>1116</td>\n      <td>상가</td>\n      <td>부산광역시</td>\n      <td>임대상가</td>\n      <td>14.10</td>\n      <td>1</td>\n      <td>10.0</td>\n      <td>D</td>\n      <td>NaN</td>\n      <td>NaN</td>\n      <td>1.0</td>\n      <td>3.0</td>\n      <td>262.0</td>\n      <td>127.0</td>\n      <td>0.0</td>\n    </tr>\n    <tr>\n      <th>272</th>\n      <td>C2135</td>\n      <td>1116</td>\n      <td>상가</td>\n      <td>부산광역시</td>\n      <td>임대상가</td>\n      <td>18.98</td>\n      <td>1</td>\n      <td>10.0</td>\n      <td>D</td>\n      <td>NaN</td>\n      <td>NaN</td>\n      <td>1.0</td>\n      <td>3.0</td>\n      <td>262.0</td>\n      <td>127.0</td>\n      <td>0.0</td>\n    </tr>\n    <tr>\n      <th>273</th>\n      <td>C2135</td>\n      <td>1116</td>\n      <td>상가</td>\n      <td>부산광역시</td>\n      <td>임대상가</td>\n      <td>19.36</td>\n      <td>1</td>\n      <td>10.0</td>\n      <td>D</td>\n      <td>NaN</td>\n      <td>NaN</td>\n      <td>1.0</td>\n      <td>3.0</td>\n      <td>262.0</td>\n      <td>127.0</td>\n      <td>0.0</td>\n    </tr>\n    <tr>\n      <th>274</th>\n      <td>C2135</td>\n      <td>1116</td>\n      <td>상가</td>\n      <td>부산광역시</td>\n      <td>임대상가</td>\n      <td>21.46</td>\n      <td>1</td>\n      <td>10.0</td>\n      <td>D</td>\n      <td>NaN</td>\n      <td>NaN</td>\n      <td>1.0</td>\n      <td>3.0</td>\n      <td>262.0</td>\n      <td>127.0</td>\n      <td>0.0</td>\n    </tr>\n    <tr>\n      <th>275</th>\n      <td>C2135</td>\n      <td>1116</td>\n      <td>상가</td>\n      <td>부산광역시</td>\n      <td>임대상가</td>\n      <td>22.83</td>\n      <td>1</td>\n      <td>10.0</td>\n      <td>D</td>\n      <td>NaN</td>\n      <td>NaN</td>\n      <td>1.0</td>\n      <td>3.0</td>\n      <td>262.0</td>\n      <td>127.0</td>\n      <td>0.0</td>\n    </tr>\n    <tr>\n      <th>...</th>\n      <td>...</td>\n      <td>...</td>\n      <td>...</td>\n      <td>...</td>\n      <td>...</td>\n      <td>...</td>\n      <td>...</td>\n      <td>...</td>\n      <td>...</td>\n      <td>...</td>\n      <td>...</td>\n      <td>...</td>\n      <td>...</td>\n      <td>...</td>\n      <td>...</td>\n      <td>...</td>\n    </tr>\n    <tr>\n      <th>2761</th>\n      <td>C2676</td>\n      <td>2572</td>\n      <td>상가</td>\n      <td>부산광역시</td>\n      <td>임대상가</td>\n      <td>54.60</td>\n      <td>1</td>\n      <td>25.0</td>\n      <td>D</td>\n      <td>NaN</td>\n      <td>NaN</td>\n      <td>0.0</td>\n      <td>2.0</td>\n      <td>418.0</td>\n      <td>NaN</td>\n      <td>0.0</td>\n    </tr>\n    <tr>\n      <th>2762</th>\n      <td>C2676</td>\n      <td>2572</td>\n      <td>상가</td>\n      <td>부산광역시</td>\n      <td>임대상가</td>\n      <td>54.61</td>\n      <td>1</td>\n      <td>25.0</td>\n      <td>D</td>\n      <td>NaN</td>\n      <td>NaN</td>\n      <td>0.0</td>\n      <td>2.0</td>\n      <td>418.0</td>\n      <td>NaN</td>\n      <td>0.0</td>\n    </tr>\n    <tr>\n      <th>2763</th>\n      <td>C2676</td>\n      <td>2572</td>\n      <td>상가</td>\n      <td>부산광역시</td>\n      <td>임대상가</td>\n      <td>75.98</td>\n      <td>1</td>\n      <td>25.0</td>\n      <td>D</td>\n      <td>NaN</td>\n      <td>NaN</td>\n      <td>0.0</td>\n      <td>2.0</td>\n      <td>418.0</td>\n      <td>NaN</td>\n      <td>0.0</td>\n    </tr>\n    <tr>\n      <th>2764</th>\n      <td>C2676</td>\n      <td>2572</td>\n      <td>상가</td>\n      <td>부산광역시</td>\n      <td>임대상가</td>\n      <td>404.65</td>\n      <td>1</td>\n      <td>25.0</td>\n      <td>D</td>\n      <td>NaN</td>\n      <td>NaN</td>\n      <td>0.0</td>\n      <td>2.0</td>\n      <td>418.0</td>\n      <td>NaN</td>\n      <td>0.0</td>\n    </tr>\n    <tr>\n      <th>2765</th>\n      <td>C2676</td>\n      <td>2572</td>\n      <td>상가</td>\n      <td>부산광역시</td>\n      <td>임대상가</td>\n      <td>583.40</td>\n      <td>1</td>\n      <td>25.0</td>\n      <td>D</td>\n      <td>NaN</td>\n      <td>NaN</td>\n      <td>0.0</td>\n      <td>2.0</td>\n      <td>418.0</td>\n      <td>NaN</td>\n      <td>0.0</td>\n    </tr>\n  </tbody>\n</table>\n<p>152 rows × 16 columns</p>\n</div>"
     },
     "metadata": {},
     "execution_count": 20
    }
   ],
   "source": [
    "#1. 부산광역시 \n",
    "total[(total['지역']=='부산광역시') & (total['임대보증금'].isnull())]"
   ]
  },
  {
   "cell_type": "code",
   "execution_count": 21,
   "metadata": {},
   "outputs": [
    {
     "output_type": "execute_result",
     "data": {
      "text/plain": [
       "      단지코드  총세대수 임대건물구분     지역  공급유형    전용면적  전용면적별세대수   공가수 자격유형       임대보증금  \\\n",
       "268  C2135  1116    아파트  부산광역시  영구임대   26.37       358  10.0    C   9363000.0   \n",
       "269  C2135  1116    아파트  부산광역시  영구임대   26.37       294  10.0    C   9363000.0   \n",
       "270  C2135  1116    아파트  부산광역시  영구임대   31.32       447  10.0    C  10692000.0   \n",
       "271  C2135  1116     상가  부산광역시  임대상가   14.10         1  10.0    D         NaN   \n",
       "272  C2135  1116     상가  부산광역시  임대상가   18.98         1  10.0    D         NaN   \n",
       "273  C2135  1116     상가  부산광역시  임대상가   19.36         1  10.0    D         NaN   \n",
       "274  C2135  1116     상가  부산광역시  임대상가   21.46         1  10.0    D         NaN   \n",
       "275  C2135  1116     상가  부산광역시  임대상가   22.83         1  10.0    D         NaN   \n",
       "276  C2135  1116     상가  부산광역시  임대상가   23.40         1  10.0    D         NaN   \n",
       "277  C2135  1116     상가  부산광역시  임대상가   27.55         1  10.0    D         NaN   \n",
       "278  C2135  1116     상가  부산광역시  임대상가   29.17         1  10.0    D         NaN   \n",
       "279  C2135  1116     상가  부산광역시  임대상가   31.92         1  10.0    D         NaN   \n",
       "280  C2135  1116     상가  부산광역시  임대상가   32.60         1  10.0    D         NaN   \n",
       "281  C2135  1116     상가  부산광역시  임대상가   36.57         1  10.0    D         NaN   \n",
       "282  C2135  1116     상가  부산광역시  임대상가   50.08         1  10.0    D         NaN   \n",
       "283  C2135  1116     상가  부산광역시  임대상가  240.22         1  10.0    D         NaN   \n",
       "\n",
       "          임대료  지하철   버스  단지내주차면수  등록차량수  총분양가  \n",
       "268  124390.0  1.0  3.0    262.0  127.0   0.0  \n",
       "269  124390.0  1.0  3.0    262.0  127.0   0.0  \n",
       "270  137660.0  1.0  3.0    262.0  127.0   0.0  \n",
       "271       NaN  1.0  3.0    262.0  127.0   0.0  \n",
       "272       NaN  1.0  3.0    262.0  127.0   0.0  \n",
       "273       NaN  1.0  3.0    262.0  127.0   0.0  \n",
       "274       NaN  1.0  3.0    262.0  127.0   0.0  \n",
       "275       NaN  1.0  3.0    262.0  127.0   0.0  \n",
       "276       NaN  1.0  3.0    262.0  127.0   0.0  \n",
       "277       NaN  1.0  3.0    262.0  127.0   0.0  \n",
       "278       NaN  1.0  3.0    262.0  127.0   0.0  \n",
       "279       NaN  1.0  3.0    262.0  127.0   0.0  \n",
       "280       NaN  1.0  3.0    262.0  127.0   0.0  \n",
       "281       NaN  1.0  3.0    262.0  127.0   0.0  \n",
       "282       NaN  1.0  3.0    262.0  127.0   0.0  \n",
       "283       NaN  1.0  3.0    262.0  127.0   0.0  "
      ],
      "text/html": "<div>\n<style scoped>\n    .dataframe tbody tr th:only-of-type {\n        vertical-align: middle;\n    }\n\n    .dataframe tbody tr th {\n        vertical-align: top;\n    }\n\n    .dataframe thead th {\n        text-align: right;\n    }\n</style>\n<table border=\"1\" class=\"dataframe\">\n  <thead>\n    <tr style=\"text-align: right;\">\n      <th></th>\n      <th>단지코드</th>\n      <th>총세대수</th>\n      <th>임대건물구분</th>\n      <th>지역</th>\n      <th>공급유형</th>\n      <th>전용면적</th>\n      <th>전용면적별세대수</th>\n      <th>공가수</th>\n      <th>자격유형</th>\n      <th>임대보증금</th>\n      <th>임대료</th>\n      <th>지하철</th>\n      <th>버스</th>\n      <th>단지내주차면수</th>\n      <th>등록차량수</th>\n      <th>총분양가</th>\n    </tr>\n  </thead>\n  <tbody>\n    <tr>\n      <th>268</th>\n      <td>C2135</td>\n      <td>1116</td>\n      <td>아파트</td>\n      <td>부산광역시</td>\n      <td>영구임대</td>\n      <td>26.37</td>\n      <td>358</td>\n      <td>10.0</td>\n      <td>C</td>\n      <td>9363000.0</td>\n      <td>124390.0</td>\n      <td>1.0</td>\n      <td>3.0</td>\n      <td>262.0</td>\n      <td>127.0</td>\n      <td>0.0</td>\n    </tr>\n    <tr>\n      <th>269</th>\n      <td>C2135</td>\n      <td>1116</td>\n      <td>아파트</td>\n      <td>부산광역시</td>\n      <td>영구임대</td>\n      <td>26.37</td>\n      <td>294</td>\n      <td>10.0</td>\n      <td>C</td>\n      <td>9363000.0</td>\n      <td>124390.0</td>\n      <td>1.0</td>\n      <td>3.0</td>\n      <td>262.0</td>\n      <td>127.0</td>\n      <td>0.0</td>\n    </tr>\n    <tr>\n      <th>270</th>\n      <td>C2135</td>\n      <td>1116</td>\n      <td>아파트</td>\n      <td>부산광역시</td>\n      <td>영구임대</td>\n      <td>31.32</td>\n      <td>447</td>\n      <td>10.0</td>\n      <td>C</td>\n      <td>10692000.0</td>\n      <td>137660.0</td>\n      <td>1.0</td>\n      <td>3.0</td>\n      <td>262.0</td>\n      <td>127.0</td>\n      <td>0.0</td>\n    </tr>\n    <tr>\n      <th>271</th>\n      <td>C2135</td>\n      <td>1116</td>\n      <td>상가</td>\n      <td>부산광역시</td>\n      <td>임대상가</td>\n      <td>14.10</td>\n      <td>1</td>\n      <td>10.0</td>\n      <td>D</td>\n      <td>NaN</td>\n      <td>NaN</td>\n      <td>1.0</td>\n      <td>3.0</td>\n      <td>262.0</td>\n      <td>127.0</td>\n      <td>0.0</td>\n    </tr>\n    <tr>\n      <th>272</th>\n      <td>C2135</td>\n      <td>1116</td>\n      <td>상가</td>\n      <td>부산광역시</td>\n      <td>임대상가</td>\n      <td>18.98</td>\n      <td>1</td>\n      <td>10.0</td>\n      <td>D</td>\n      <td>NaN</td>\n      <td>NaN</td>\n      <td>1.0</td>\n      <td>3.0</td>\n      <td>262.0</td>\n      <td>127.0</td>\n      <td>0.0</td>\n    </tr>\n    <tr>\n      <th>273</th>\n      <td>C2135</td>\n      <td>1116</td>\n      <td>상가</td>\n      <td>부산광역시</td>\n      <td>임대상가</td>\n      <td>19.36</td>\n      <td>1</td>\n      <td>10.0</td>\n      <td>D</td>\n      <td>NaN</td>\n      <td>NaN</td>\n      <td>1.0</td>\n      <td>3.0</td>\n      <td>262.0</td>\n      <td>127.0</td>\n      <td>0.0</td>\n    </tr>\n    <tr>\n      <th>274</th>\n      <td>C2135</td>\n      <td>1116</td>\n      <td>상가</td>\n      <td>부산광역시</td>\n      <td>임대상가</td>\n      <td>21.46</td>\n      <td>1</td>\n      <td>10.0</td>\n      <td>D</td>\n      <td>NaN</td>\n      <td>NaN</td>\n      <td>1.0</td>\n      <td>3.0</td>\n      <td>262.0</td>\n      <td>127.0</td>\n      <td>0.0</td>\n    </tr>\n    <tr>\n      <th>275</th>\n      <td>C2135</td>\n      <td>1116</td>\n      <td>상가</td>\n      <td>부산광역시</td>\n      <td>임대상가</td>\n      <td>22.83</td>\n      <td>1</td>\n      <td>10.0</td>\n      <td>D</td>\n      <td>NaN</td>\n      <td>NaN</td>\n      <td>1.0</td>\n      <td>3.0</td>\n      <td>262.0</td>\n      <td>127.0</td>\n      <td>0.0</td>\n    </tr>\n    <tr>\n      <th>276</th>\n      <td>C2135</td>\n      <td>1116</td>\n      <td>상가</td>\n      <td>부산광역시</td>\n      <td>임대상가</td>\n      <td>23.40</td>\n      <td>1</td>\n      <td>10.0</td>\n      <td>D</td>\n      <td>NaN</td>\n      <td>NaN</td>\n      <td>1.0</td>\n      <td>3.0</td>\n      <td>262.0</td>\n      <td>127.0</td>\n      <td>0.0</td>\n    </tr>\n    <tr>\n      <th>277</th>\n      <td>C2135</td>\n      <td>1116</td>\n      <td>상가</td>\n      <td>부산광역시</td>\n      <td>임대상가</td>\n      <td>27.55</td>\n      <td>1</td>\n      <td>10.0</td>\n      <td>D</td>\n      <td>NaN</td>\n      <td>NaN</td>\n      <td>1.0</td>\n      <td>3.0</td>\n      <td>262.0</td>\n      <td>127.0</td>\n      <td>0.0</td>\n    </tr>\n    <tr>\n      <th>278</th>\n      <td>C2135</td>\n      <td>1116</td>\n      <td>상가</td>\n      <td>부산광역시</td>\n      <td>임대상가</td>\n      <td>29.17</td>\n      <td>1</td>\n      <td>10.0</td>\n      <td>D</td>\n      <td>NaN</td>\n      <td>NaN</td>\n      <td>1.0</td>\n      <td>3.0</td>\n      <td>262.0</td>\n      <td>127.0</td>\n      <td>0.0</td>\n    </tr>\n    <tr>\n      <th>279</th>\n      <td>C2135</td>\n      <td>1116</td>\n      <td>상가</td>\n      <td>부산광역시</td>\n      <td>임대상가</td>\n      <td>31.92</td>\n      <td>1</td>\n      <td>10.0</td>\n      <td>D</td>\n      <td>NaN</td>\n      <td>NaN</td>\n      <td>1.0</td>\n      <td>3.0</td>\n      <td>262.0</td>\n      <td>127.0</td>\n      <td>0.0</td>\n    </tr>\n    <tr>\n      <th>280</th>\n      <td>C2135</td>\n      <td>1116</td>\n      <td>상가</td>\n      <td>부산광역시</td>\n      <td>임대상가</td>\n      <td>32.60</td>\n      <td>1</td>\n      <td>10.0</td>\n      <td>D</td>\n      <td>NaN</td>\n      <td>NaN</td>\n      <td>1.0</td>\n      <td>3.0</td>\n      <td>262.0</td>\n      <td>127.0</td>\n      <td>0.0</td>\n    </tr>\n    <tr>\n      <th>281</th>\n      <td>C2135</td>\n      <td>1116</td>\n      <td>상가</td>\n      <td>부산광역시</td>\n      <td>임대상가</td>\n      <td>36.57</td>\n      <td>1</td>\n      <td>10.0</td>\n      <td>D</td>\n      <td>NaN</td>\n      <td>NaN</td>\n      <td>1.0</td>\n      <td>3.0</td>\n      <td>262.0</td>\n      <td>127.0</td>\n      <td>0.0</td>\n    </tr>\n    <tr>\n      <th>282</th>\n      <td>C2135</td>\n      <td>1116</td>\n      <td>상가</td>\n      <td>부산광역시</td>\n      <td>임대상가</td>\n      <td>50.08</td>\n      <td>1</td>\n      <td>10.0</td>\n      <td>D</td>\n      <td>NaN</td>\n      <td>NaN</td>\n      <td>1.0</td>\n      <td>3.0</td>\n      <td>262.0</td>\n      <td>127.0</td>\n      <td>0.0</td>\n    </tr>\n    <tr>\n      <th>283</th>\n      <td>C2135</td>\n      <td>1116</td>\n      <td>상가</td>\n      <td>부산광역시</td>\n      <td>임대상가</td>\n      <td>240.22</td>\n      <td>1</td>\n      <td>10.0</td>\n      <td>D</td>\n      <td>NaN</td>\n      <td>NaN</td>\n      <td>1.0</td>\n      <td>3.0</td>\n      <td>262.0</td>\n      <td>127.0</td>\n      <td>0.0</td>\n    </tr>\n  </tbody>\n</table>\n</div>"
     },
     "metadata": {},
     "execution_count": 21
    }
   ],
   "source": [
    "total[total['단지코드']=='C2135']  #부산금곡1"
   ]
  },
  {
   "cell_type": "code",
   "execution_count": 24,
   "metadata": {},
   "outputs": [
    {
     "output_type": "execute_result",
     "data": {
      "text/plain": [
       "276   NaN\n",
       "Name: 임대료, dtype: float64"
      ]
     },
     "metadata": {},
     "execution_count": 24
    }
   ],
   "source": [
    "total.loc[(total['단지코드']=='C2135') & (total['전용면적']==23.4), '임대료']=265000 \n",
    "total.loc[(total['단지코드']=='C2135') & (total['전용면적']==23.4), '임대보증금']=6360000  \n",
    " \n",
    "total.loc[(total['단지코드']=='C2135') & (total['전용면적']==18.98), '임대료']=133000\n",
    "total.loc[(total['단지코드']=='C2135') & (total['전용면적']==18.98), '임대보증금']=3192000\n",
    "\n",
    "\n",
    " "
   ]
  },
  {
   "cell_type": "code",
   "execution_count": 26,
   "metadata": {},
   "outputs": [
    {
     "output_type": "execute_result",
     "data": {
      "text/plain": [
       "14.10     1\n",
       "18.98     1\n",
       "19.36     1\n",
       "21.46     1\n",
       "22.83     1\n",
       "23.40     1\n",
       "27.55     1\n",
       "29.17     1\n",
       "31.92     1\n",
       "32.60     1\n",
       "36.57     1\n",
       "50.08     1\n",
       "240.22    1\n",
       "Name: 전용면적, dtype: int64"
      ]
     },
     "metadata": {},
     "execution_count": 26
    }
   ],
   "source": [
    "total[(total['단지코드']=='C2135') & (total['공급유형']=='임대상가')]['전용면적'].value_counts()"
   ]
  },
  {
   "cell_type": "code",
   "execution_count": null,
   "metadata": {},
   "outputs": [],
   "source": []
  }
 ]
}